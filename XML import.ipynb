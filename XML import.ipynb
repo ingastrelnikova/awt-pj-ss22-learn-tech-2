{
 "cells": [
  {
   "cell_type": "code",
   "execution_count": 8,
   "metadata": {},
   "outputs": [],
   "source": [
    "import pandas as pd\n",
    "import xml.etree.ElementTree as ET"
   ]
  },
  {
   "cell_type": "code",
   "execution_count": 18,
   "metadata": {},
   "outputs": [
    {
     "name": "stdout",
     "output_type": "stream",
     "text": [
      "<Element 'COURSE' at 0x7f8461f7ad60>\n"
     ]
    }
   ],
   "source": [
    "tree = ET.parse('data/course-description/FOKUS_AWT_CompetencyExtraction_WB_Brandenburg.xml')\n",
    "all_name_elements = tree.findall('.//COURSE')\n",
    "print(all_name_elements[0])"
   ]
  },
  {
   "cell_type": "code",
   "execution_count": 39,
   "metadata": {},
   "outputs": [],
   "source": [
    "name = courses[0].find('CS_NAME') \n",
    "id = courses[0].find('CS_ID') \n",
    "description = courses[0].find('CS_DESC_LONG') "
   ]
  },
  {
   "cell_type": "code",
   "execution_count": 43,
   "metadata": {},
   "outputs": [
    {
     "name": "stdout",
     "output_type": "stream",
     "text": [
      "<COURSE><CS_NAME>\"Schwierige\" Klienten? - Mit Patienten, Angehï¿œrigen und Kollegen clever kommunizieren </CS_NAME>\n",
      "      <CS_ID>4A873264-7ADD-DE47-3039-1FDA692E8164</CS_ID>\n",
      "      <CS_DESC_LONG>- Analyse strapaziï¿œser Gesprï¿œchsmuster\n",
      "- Schwierige Klienten oder schwierige Situation?\n",
      "- Was heiï¿œt es schwierige Gesprï¿œche souverï¿œn zu meistern?\n",
      "- ï¿œbungen mit Videofeedback werden durchgefï¿œhrt!     </CS_DESC_LONG>\n",
      "      </COURSE>\n"
     ]
    }
   ],
   "source": [
    "root = ET.Element(\"COURSE\")\n",
    "root.append (name)\n",
    "root.append (id)\n",
    "root.append (description)\n",
    "\n",
    "r = ET.tostring(root, encoding='unicode')\n",
    "print(r)"
   ]
  },
  {
   "cell_type": "code",
   "execution_count": 49,
   "metadata": {},
   "outputs": [],
   "source": [
    "tree_new = ET.ElementTree(root)\n",
    "tree_new.write('course.xml')"
   ]
  },
  {
   "cell_type": "code",
   "execution_count": 51,
   "metadata": {},
   "outputs": [
    {
     "name": "stdout",
     "output_type": "stream",
     "text": [
      "<COURSE><CS_NAME>\"Schwierige\" Klienten? - Mit Patienten, Angehï¿œrigen und Kollegen clever kommunizieren </CS_NAME>\n",
      "      <CS_ID>4A873264-7ADD-DE47-3039-1FDA692E8164</CS_ID>\n",
      "      <CS_DESC_LONG>- Analyse strapaziï¿œser Gesprï¿œchsmuster\n",
      "- Schwierige Klienten oder schwierige Situation?\n",
      "- Was heiï¿œt es schwierige Gesprï¿œche souverï¿œn zu meistern?\n",
      "- ï¿œbungen mit Videofeedback werden durchgefï¿œhrt!     </CS_DESC_LONG>\n",
      "      </COURSE>\n"
     ]
    }
   ],
   "source": [
    "string = ET.tostring(root, encoding='unicode')\n",
    "print(string)"
   ]
  },
  {
   "cell_type": "code",
   "execution_count": 53,
   "metadata": {},
   "outputs": [
    {
     "data": {
      "text/plain": [
       "xml.etree.ElementTree.ElementTree"
      ]
     },
     "execution_count": 53,
     "metadata": {},
     "output_type": "execute_result"
    }
   ],
   "source": [
    "type(tree)"
   ]
  },
  {
   "cell_type": "code",
   "execution_count": null,
   "metadata": {},
   "outputs": [],
   "source": []
  }
 ],
 "metadata": {
  "kernelspec": {
   "display_name": "Python 3 (ipykernel)",
   "language": "python",
   "name": "python3"
  },
  "language_info": {
   "codemirror_mode": {
    "name": "ipython",
    "version": 3
   },
   "file_extension": ".py",
   "mimetype": "text/x-python",
   "name": "python",
   "nbconvert_exporter": "python",
   "pygments_lexer": "ipython3",
   "version": "3.8.3"
  }
 },
 "nbformat": 4,
 "nbformat_minor": 4
}
