{
 "cells": [
  {
   "cell_type": "code",
   "execution_count": 3,
   "id": "d9d5b50a",
   "metadata": {},
   "outputs": [],
   "source": [
    "from neo4j import GraphDatabase\n",
    "import pandas as pd"
   ]
  },
  {
   "cell_type": "markdown",
   "id": "7c1c0b64",
   "metadata": {},
   "source": [
    "# Dataset"
   ]
  },
  {
   "cell_type": "markdown",
   "id": "88608097",
   "metadata": {},
   "source": [
    "## ESCO Skill Dataset"
   ]
  },
  {
   "cell_type": "code",
   "execution_count": 4,
   "id": "f6a483a9",
   "metadata": {},
   "outputs": [],
   "source": [
    "skills = pd.read_csv('../data/all_skills.csv')[['concept_uri','preferred_label','description']]"
   ]
  },
  {
   "cell_type": "markdown",
   "id": "5aeec918",
   "metadata": {},
   "source": [
    "## DIN PAS 1045 Course Description Datase"
   ]
  },
  {
   "cell_type": "code",
   "execution_count": 5,
   "id": "1288af5a",
   "metadata": {},
   "outputs": [],
   "source": [
    "courses = pd.read_csv('../data/all_courses.csv')[['course_id','course_name','course_description']]"
   ]
  },
  {
   "cell_type": "markdown",
   "id": "6d983821",
   "metadata": {},
   "source": [
    "# Neo4J CRUD"
   ]
  },
  {
   "cell_type": "code",
   "execution_count": 24,
   "id": "c7e488b2",
   "metadata": {},
   "outputs": [],
   "source": [
    "class App:\n",
    "\n",
    "    def __init__(self, uri, user, password):\n",
    "        self.driver = GraphDatabase.driver(uri, auth=(user, password))\n",
    "\n",
    "    def close(self):\n",
    "        # Don't forget to close the driver connection when you are finished with it\n",
    "        self.driver.close()\n",
    "        \n",
    "    def create_skill(self, concept_uri, preferred_label, description):\n",
    "        with self.driver.session() as session:\n",
    "            # Write transactions allow the driver to handle retries and transient errors\n",
    "            result = session.write_transaction(self._create_and_return_skill, \n",
    "                                               concept_uri, preferred_label, description)\n",
    "            \n",
    "    @staticmethod\n",
    "    def _create_and_return_skill(tx, concept_uri, preferred_label, description):\n",
    "        query = (\n",
    "            \"CREATE (skill:Skill {concept_uri: $concept_uri, \\\n",
    "            preferred_label: $preferred_label, description: $description})\"\n",
    "            \"RETURN skill\"\n",
    "        )\n",
    "\n",
    "        results = tx.run(query, concept_uri=concept_uri, \n",
    "                             preferred_label=preferred_label, \n",
    "                             description=description)\n",
    "    \n",
    "    def create_skills(self, csv_path):\n",
    "        with self.driver.session() as session:\n",
    "            result = session.write_transaction(self._create_skills, csv_path)\n",
    "            \n",
    "    @staticmethod\n",
    "    def _create_skills(tx, csv_path):\n",
    "        assert \"http\" in csv_path, \"Loading csv files from local is \\\n",
    "        not possible due to security reasons, please use online files.\" \n",
    "        query = (\n",
    "            \"LOAD CSV WITH HEADERS FROM $csv_path AS skill \\\n",
    "            CREATE (:Skill {concept_uri: skill.concept_uri, \\\n",
    "            preferred_label: skill.preferred_label, description: skill.description})\"\n",
    "        )\n",
    "        results = tx.run(query, csv_path=csv_path)\n",
    "        \n",
    "    def create_course(self, course_name, course_id, course_description):\n",
    "        with self.driver.session() as session:\n",
    "            # Write transactions allow the driver to handle retries and transient errors\n",
    "            result = session.write_transaction(self._create_and_return_course, \n",
    "                                               course_name, course_id, course_description)\n",
    "            \n",
    "    @staticmethod\n",
    "    def _create_and_return_course(tx, course_name, course_id, course_description):\n",
    "        \n",
    "        query = (\n",
    "            \"CREATE (course:Course {course_id: $course_id, course_name: \\\n",
    "            $course_name, course_description: $course_description})\"\n",
    "            \"RETURN course\"\n",
    "        )\n",
    "\n",
    "        results = tx.run(query, course_id=course_id, \n",
    "                             course_name=course_name, \n",
    "                             course_description=course_description)\n",
    "        \n",
    "    def create_courses(self, csv_path):\n",
    "        with self.driver.session() as session:\n",
    "            result = session.write_transaction(self._create_courses, csv_path)\n",
    "            \n",
    "    @staticmethod\n",
    "    def _create_courses(tx, csv_path):\n",
    "        assert \"http\" in csv_path, \"Loading csv files from local is \\\n",
    "        not possible due to security reasons, please use online files.\" \n",
    "        query = (\n",
    "            \"LOAD CSV WITH HEADERS FROM $csv_path AS course \\\n",
    "            CREATE (:Course {course_id: course.course_id, \\\n",
    "            course_name: course.course_name, course_description: course.course_description})\"\n",
    "        )\n",
    "        results = tx.run(query, csv_path=csv_path)\n",
    "    \n",
    "    def create_relation(self, course_id, concept_uri):\n",
    "        with self.driver.session() as session:\n",
    "            result = session.write_transaction(self._create_relation, course_id, concept_uri)\n",
    "    \n",
    "    @staticmethod\n",
    "    def _create_relation(tx, course_id, concept_uri):\n",
    "        query = (\n",
    "            \"MATCH (course:Course), (skill:Skill) \\\n",
    "            WHERE course.course_id = $course_id AND skill.concept_uri = $concept_uri \\\n",
    "            CREATE (course)-[provide_skill:PROVIDE_SKILL]->(skill) \\\n",
    "            RETURN type(provide_skill)\"\n",
    "        )\n",
    "        results = tx.run(query, course_id=course_id, concept_uri=concept_uri)\n",
    "        \n",
    "    def create_relations(self, csv_path):\n",
    "        with self.driver.session() as session:\n",
    "            result = session.write_transaction(self._create_relations, course_id, concept_uri)\n",
    "    \n",
    "    @staticmethod\n",
    "    def _create_relations(tx, csv_path):\n",
    "        query = (\n",
    "            \"LOAD CSV WITH HEADERS FROM $csv_path AS relation \\\n",
    "             MATCH (course:Course), (skill:Skill) \\\n",
    "             WHERE course.course_id = $relation[0] AND skill.concept_uri = $relation[1] \\\n",
    "             CREATE (course)-[provide_skill:PROVIDE_SKILL]->(skill) \\\n",
    "             RETURN type(provide_skill)\"\n",
    "        )\n",
    "        results = tx.run(query, course_id=course_id, concept_uri=concept_uri)  "
   ]
  },
  {
   "cell_type": "code",
   "execution_count": 25,
   "id": "3543a20b",
   "metadata": {},
   "outputs": [],
   "source": [
    "if __name__ == \"__main__\":\n",
    "    # Aura queries use an encrypted connection using the \"neo4j+s\" URI scheme\n",
    "    uri = \"neo4j+s://fbb398e7.databases.neo4j.io\"\n",
    "    user = \"neo4j\"\n",
    "    password = \"3bO4Zwc9eYOyZBQ_CHE49lqd7NKeLSySJAq4flxUtAA\"\n",
    "    app = App(uri, user, password)\n",
    "#     app.create_skills(\"https://raw.githubusercontent.com/ingastrelnikova/awt-pj-ss22-learn-tech-2/main/data/all_skills.csv\")\n",
    "#     app.create_courses(\"https://raw.githubusercontent.com/ingastrelnikova/awt-pj-ss22-learn-tech-2/main/data/all_courses.csv\")\n",
    "#     app.create_relation(\"99BEDCEB-4FF3-3F8F-88B7-B30E50638F01\",\"http://data.europa.eu/esco/skill/08fe5910-8c4c-4679-a988-eb2ded3c4909\")\n",
    "    app.close()"
   ]
  },
  {
   "cell_type": "markdown",
   "id": "78121d26",
   "metadata": {},
   "source": [
    "CREATE (ee:Person { name: \"Emil\", from: \"Sweden\", klout: 99 })\n",
    "\n",
    "MATCH (ee:Person) WHERE ee.name = \"Emil\" RETURN ee;\n",
    "\n",
    "CREATE (js:Person { name: \"Johan\", from: \"Sweden\", learn: \"surfing\" }),\n",
    "(ir:Person { name: \"Ian\", from: \"England\", title: \"author\" }),\n",
    "(rvb:Person { name: \"Rik\", from: \"Belgium\", pet: \"Orval\" }),\n",
    "(ally:Person { name: \"Allison\", from: \"California\", hobby: \"surfing\" }),\n",
    "(ee)-[:KNOWS {since: 2001}]->(js),(ee)-[:KNOWS {rating: 5}]->(ir),\n",
    "(js)-[:KNOWS]->(ir),(js)-[:KNOWS]->(rvb),\n",
    "(ir)-[:KNOWS]->(js),(ir)-[:KNOWS]->(ally),\n",
    "(rvb)-[:KNOWS]->(ally)\n",
    "\n",
    "MATCH\n",
    "  (a:Person),\n",
    "  (b:Movie)\n",
    "WHERE a.name = 'Allison' AND b.title = 'The Matrix Revolutions'\n",
    "CREATE (a)-[r:ACTED_IN]->(b)\n",
    "RETURN type(r)\n",
    "\n",
    "MATCH (n) DETACH DELETE n\n",
    "\n",
    "\n",
    "MATCH (n) RETURN n"
   ]
  },
  {
   "cell_type": "code",
   "execution_count": null,
   "id": "a7d3c9ae",
   "metadata": {},
   "outputs": [],
   "source": []
  }
 ],
 "metadata": {
  "kernelspec": {
   "display_name": "Python 3 (ipykernel)",
   "language": "python",
   "name": "python3"
  },
  "language_info": {
   "codemirror_mode": {
    "name": "ipython",
    "version": 3
   },
   "file_extension": ".py",
   "mimetype": "text/x-python",
   "name": "python",
   "nbconvert_exporter": "python",
   "pygments_lexer": "ipython3",
   "version": "3.9.7"
  }
 },
 "nbformat": 4,
 "nbformat_minor": 5
}
