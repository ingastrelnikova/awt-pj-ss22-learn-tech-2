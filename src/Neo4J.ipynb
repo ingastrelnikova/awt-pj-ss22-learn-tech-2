{
 "cells": [
  {
   "cell_type": "code",
   "execution_count": 3,
   "id": "d9d5b50a",
   "metadata": {},
   "outputs": [],
   "source": [
    "from neo4j import GraphDatabase\n",
    "import pandas as pd"
   ]
  },
  {
   "cell_type": "markdown",
   "id": "7c1c0b64",
   "metadata": {},
   "source": [
    "# Dataset"
   ]
  },
  {
   "cell_type": "markdown",
   "id": "88608097",
   "metadata": {},
   "source": [
    "## ESCO Skill Dataset"
   ]
  },
  {
   "cell_type": "code",
   "execution_count": 4,
   "id": "f6a483a9",
   "metadata": {},
   "outputs": [],
   "source": [
    "skills = pd.read_csv('../data/all_skills.csv')[['concept_uri','preferred_label','description']]"
   ]
  },
  {
   "cell_type": "markdown",
   "id": "5aeec918",
   "metadata": {},
   "source": [
    "## DIN PAS 1045 Course Description Datase"
   ]
  },
  {
   "cell_type": "code",
   "execution_count": 5,
   "id": "1288af5a",
   "metadata": {},
   "outputs": [],
   "source": [
    "courses = pd.read_csv('../data/all_courses.csv')[['course_id','course_name','course_description']]"
   ]
  },
  {
   "cell_type": "markdown",
   "id": "be74ac18",
   "metadata": {},
   "source": [
    "# Neo4J CRUD"
   ]
  },
  {
   "cell_type": "code",
   "execution_count": 35,
   "id": "c7e488b2",
   "metadata": {},
   "outputs": [],
   "source": [
    "class App:\n",
    "\n",
    "    def __init__(self, uri, user, password):\n",
    "        self.driver = GraphDatabase.driver(uri, auth=(user, password))\n",
    "\n",
    "    def close(self):\n",
    "        # Don't forget to close the driver connection when you are finished with it\n",
    "        self.driver.close()\n",
    "        \n",
    "    def create_skill(self, concept_uri, preferred_label, description):\n",
    "        with self.driver.session() as session:\n",
    "            # Write transactions allow the driver to handle retries and transient errors\n",
    "            result = session.write_transaction(self._create_and_return_skill, \n",
    "                                               concept_uri, preferred_label, description)\n",
    "            \n",
    "    @staticmethod\n",
    "    def _create_and_return_skill(tx, concept_uri, preferred_label, description):\n",
    "        query = (\n",
    "            \"CREATE (skill:Skill {concept_uri: $concept_uri, \\\n",
    "            preferred_label: $preferred_label, description: $description})\"\n",
    "            \"RETURN skill\"\n",
    "        )\n",
    "\n",
    "        results = tx.run(query, concept_uri=concept_uri, \n",
    "                             preferred_label=preferred_label, \n",
    "                             description=description)\n",
    "    \n",
    "    def create_skills(self, csv_path):\n",
    "        with self.driver.session() as session:\n",
    "            result = session.write_transaction(self._create_skills, csv_path)\n",
    "            \n",
    "    @staticmethod\n",
    "    def _create_skills(tx, csv_path):\n",
    "        assert \"http\" in csv_path, \"Loading csv files from local is \\\n",
    "        not possible due to security reasons, please use online files.\" \n",
    "        query = (\n",
    "            \"LOAD CSV WITH HEADERS FROM $csv_path AS skill \\\n",
    "            CREATE (:Skill {concept_uri: skill.concept_uri, \\\n",
    "            preferred_label: skill.preferred_label, description: skill.description})\"\n",
    "        )\n",
    "        results = tx.run(query, csv_path=csv_path)\n",
    "        \n",
    "    def create_course(self, course_name, course_id, course_description):\n",
    "        with self.driver.session() as session:\n",
    "            # Write transactions allow the driver to handle retries and transient errors\n",
    "            result = session.write_transaction(self._create_and_return_course, \n",
    "                                               course_name, course_id, course_description)\n",
    "            \n",
    "    @staticmethod\n",
    "    def _create_and_return_course(tx, course_name, course_id, course_description):\n",
    "        \n",
    "        query = (\n",
    "            \"CREATE (course:Course {course_id: $course_id, course_name: \\\n",
    "            $course_name, course_description: $course_description})\"\n",
    "            \"RETURN course\"\n",
    "        )\n",
    "\n",
    "        results = tx.run(query, course_id=course_id, \n",
    "                             course_name=course_name, \n",
    "                             course_description=course_description)\n",
    "        \n",
    "    def create_courses(self, csv_path):\n",
    "        with self.driver.session() as session:\n",
    "            result = session.write_transaction(self._create_courses, csv_path)\n",
    "            \n",
    "    @staticmethod\n",
    "    def _create_courses(tx, csv_path):\n",
    "        assert \"http\" in csv_path, \"Loading csv files from local is \\\n",
    "        not possible due to security reasons, please use online files.\" \n",
    "        query = (\n",
    "            \"LOAD CSV WITH HEADERS FROM $csv_path AS course \\\n",
    "            CREATE (:Course {course_id: course.course_id, \\\n",
    "            course_name: course.course_name, course_description: course.course_description})\"\n",
    "        )\n",
    "        results = tx.run(query, csv_path=csv_path)\n",
    "    \n",
    "    def create_relation(self, course_id, concept_uri):\n",
    "        with self.driver.session() as session:\n",
    "            result = session.write_transaction(self._create_relation, course_id, concept_uri)\n",
    "    \n",
    "    @staticmethod\n",
    "    def _create_relation(tx, course_id, concept_uri):\n",
    "        query = (\n",
    "            \"MATCH (course:Course), (skill:Skill) \\\n",
    "            WHERE course.course_id = $course_id AND skill.concept_uri = $concept_uri \\\n",
    "            CREATE (course)-[provide_skill:PROVIDE_SKILL]->(skill) \\\n",
    "            RETURN type(provide_skill)\"\n",
    "        )\n",
    "        results = tx.run(query, course_id=course_id, concept_uri=concept_uri)\n",
    "        \n",
    "    def create_relations(self, csv_path):\n",
    "        with self.driver.session() as session:\n",
    "            result = session.write_transaction(self._create_relations, csv_path)\n",
    "    \n",
    "    @staticmethod\n",
    "    def _create_relations(tx, csv_path):\n",
    "        query = (\n",
    "            \"LOAD CSV WITH HEADERS FROM $csv_path AS relation \\\n",
    "             MATCH (course:Course), (skill:Skill) \\\n",
    "             WHERE course.course_id = relation.course_id AND skill.concept_uri = relation.concept_uri \\\n",
    "             CREATE (course)-[provide_skill:PROVIDE_SKILL]->(skill) \\\n",
    "             RETURN type(provide_skill)\"\n",
    "        )\n",
    "        results = tx.run(query, csv_path=csv_path)  "
   ]
  },
  {
   "cell_type": "code",
   "execution_count": 36,
   "id": "3543a20b",
   "metadata": {},
   "outputs": [
    {
     "ename": "CypherTypeError",
     "evalue": "{code: Neo.ClientError.Statement.TypeError} {message: Cannot access a map 'Map{null -> String(\"0\"), 0 -> String(\"99BEDCEB-4FF3-3F8F-88B7-B30E50638F01\"), 1 -> String(\"http://data.europa.eu/esco/skill/08fe5910-8c4c-4679-a988-eb2ded3c4909\")}' by key 'Long(1)': Expected Long(1) to be a org.neo4j.values.storable.TextValue, but it was a org.neo4j.values.storable.LongValue}",
     "output_type": "error",
     "traceback": [
      "\u001b[0;31m---------------------------------------------------------------------------\u001b[0m",
      "\u001b[0;31mCypherTypeError\u001b[0m                           Traceback (most recent call last)",
      "\u001b[0;32m/tmp/ipykernel_7312/2774001782.py\u001b[0m in \u001b[0;36m<module>\u001b[0;34m\u001b[0m\n\u001b[1;32m      7\u001b[0m \u001b[0;31m#     app.create_skills(\"https://raw.githubusercontent.com/ingastrelnikova/awt-pj-ss22-learn-tech-2/main/data/all_skills.csv\")\u001b[0m\u001b[0;34m\u001b[0m\u001b[0;34m\u001b[0m\u001b[0m\n\u001b[1;32m      8\u001b[0m \u001b[0;31m#     app.create_courses(\"https://raw.githubusercontent.com/ingastrelnikova/awt-pj-ss22-learn-tech-2/main/data/all_courses.csv\")\u001b[0m\u001b[0;34m\u001b[0m\u001b[0;34m\u001b[0m\u001b[0m\n\u001b[0;32m----> 9\u001b[0;31m     \u001b[0mapp\u001b[0m\u001b[0;34m.\u001b[0m\u001b[0mcreate_relations\u001b[0m\u001b[0;34m(\u001b[0m\u001b[0;34m\"https://raw.githubusercontent.com/ingastrelnikova/awt-pj-ss22-learn-tech-2/main/data/all_relations.csv\"\u001b[0m\u001b[0;34m)\u001b[0m\u001b[0;34m\u001b[0m\u001b[0;34m\u001b[0m\u001b[0m\n\u001b[0m\u001b[1;32m     10\u001b[0m \u001b[0;31m#     app.create_relation(\"99BEDCEB-4FF3-3F8F-88B7-B30E50638F01\",\"http://data.europa.eu/esco/skill/08fe5910-8c4c-4679-a988-eb2ded3c4909\")\u001b[0m\u001b[0;34m\u001b[0m\u001b[0;34m\u001b[0m\u001b[0m\n\u001b[1;32m     11\u001b[0m     \u001b[0mapp\u001b[0m\u001b[0;34m.\u001b[0m\u001b[0mclose\u001b[0m\u001b[0;34m(\u001b[0m\u001b[0;34m)\u001b[0m\u001b[0;34m\u001b[0m\u001b[0;34m\u001b[0m\u001b[0m\n",
      "\u001b[0;32m/tmp/ipykernel_7312/374731175.py\u001b[0m in \u001b[0;36mcreate_relations\u001b[0;34m(self, csv_path)\u001b[0m\n\u001b[1;32m     91\u001b[0m     \u001b[0;32mdef\u001b[0m \u001b[0mcreate_relations\u001b[0m\u001b[0;34m(\u001b[0m\u001b[0mself\u001b[0m\u001b[0;34m,\u001b[0m \u001b[0mcsv_path\u001b[0m\u001b[0;34m)\u001b[0m\u001b[0;34m:\u001b[0m\u001b[0;34m\u001b[0m\u001b[0;34m\u001b[0m\u001b[0m\n\u001b[1;32m     92\u001b[0m         \u001b[0;32mwith\u001b[0m \u001b[0mself\u001b[0m\u001b[0;34m.\u001b[0m\u001b[0mdriver\u001b[0m\u001b[0;34m.\u001b[0m\u001b[0msession\u001b[0m\u001b[0;34m(\u001b[0m\u001b[0;34m)\u001b[0m \u001b[0;32mas\u001b[0m \u001b[0msession\u001b[0m\u001b[0;34m:\u001b[0m\u001b[0;34m\u001b[0m\u001b[0;34m\u001b[0m\u001b[0m\n\u001b[0;32m---> 93\u001b[0;31m             \u001b[0mresult\u001b[0m \u001b[0;34m=\u001b[0m \u001b[0msession\u001b[0m\u001b[0;34m.\u001b[0m\u001b[0mwrite_transaction\u001b[0m\u001b[0;34m(\u001b[0m\u001b[0mself\u001b[0m\u001b[0;34m.\u001b[0m\u001b[0m_create_relations\u001b[0m\u001b[0;34m,\u001b[0m \u001b[0mcsv_path\u001b[0m\u001b[0;34m)\u001b[0m\u001b[0;34m\u001b[0m\u001b[0;34m\u001b[0m\u001b[0m\n\u001b[0m\u001b[1;32m     94\u001b[0m \u001b[0;34m\u001b[0m\u001b[0m\n\u001b[1;32m     95\u001b[0m     \u001b[0;34m@\u001b[0m\u001b[0mstaticmethod\u001b[0m\u001b[0;34m\u001b[0m\u001b[0;34m\u001b[0m\u001b[0m\n",
      "\u001b[0;32m~/anaconda3/lib/python3.9/site-packages/neo4j/work/simple.py\u001b[0m in \u001b[0;36mwrite_transaction\u001b[0;34m(self, transaction_function, *args, **kwargs)\u001b[0m\n\u001b[1;32m    420\u001b[0m         \u001b[0;34m:\u001b[0m\u001b[0;32mreturn\u001b[0m\u001b[0;34m:\u001b[0m \u001b[0ma\u001b[0m \u001b[0mresult\u001b[0m \u001b[0;32mas\u001b[0m \u001b[0mreturned\u001b[0m \u001b[0mby\u001b[0m \u001b[0mthe\u001b[0m \u001b[0mgiven\u001b[0m \u001b[0munit\u001b[0m \u001b[0mof\u001b[0m \u001b[0mwork\u001b[0m\u001b[0;34m\u001b[0m\u001b[0;34m\u001b[0m\u001b[0m\n\u001b[1;32m    421\u001b[0m         \"\"\"\n\u001b[0;32m--> 422\u001b[0;31m         \u001b[0;32mreturn\u001b[0m \u001b[0mself\u001b[0m\u001b[0;34m.\u001b[0m\u001b[0m_run_transaction\u001b[0m\u001b[0;34m(\u001b[0m\u001b[0mWRITE_ACCESS\u001b[0m\u001b[0;34m,\u001b[0m \u001b[0mtransaction_function\u001b[0m\u001b[0;34m,\u001b[0m \u001b[0;34m*\u001b[0m\u001b[0margs\u001b[0m\u001b[0;34m,\u001b[0m \u001b[0;34m**\u001b[0m\u001b[0mkwargs\u001b[0m\u001b[0;34m)\u001b[0m\u001b[0;34m\u001b[0m\u001b[0;34m\u001b[0m\u001b[0m\n\u001b[0m\u001b[1;32m    423\u001b[0m \u001b[0;34m\u001b[0m\u001b[0m\n\u001b[1;32m    424\u001b[0m \u001b[0;34m\u001b[0m\u001b[0m\n",
      "\u001b[0;32m~/anaconda3/lib/python3.9/site-packages/neo4j/work/simple.py\u001b[0m in \u001b[0;36m_run_transaction\u001b[0;34m(self, access_mode, transaction_function, *args, **kwargs)\u001b[0m\n\u001b[1;32m    328\u001b[0m                     \u001b[0;32mraise\u001b[0m\u001b[0;34m\u001b[0m\u001b[0;34m\u001b[0m\u001b[0m\n\u001b[1;32m    329\u001b[0m                 \u001b[0;32melse\u001b[0m\u001b[0;34m:\u001b[0m\u001b[0;34m\u001b[0m\u001b[0;34m\u001b[0m\u001b[0m\n\u001b[0;32m--> 330\u001b[0;31m                     \u001b[0mtx\u001b[0m\u001b[0;34m.\u001b[0m\u001b[0mcommit\u001b[0m\u001b[0;34m(\u001b[0m\u001b[0;34m)\u001b[0m\u001b[0;34m\u001b[0m\u001b[0;34m\u001b[0m\u001b[0m\n\u001b[0m\u001b[1;32m    331\u001b[0m             \u001b[0;32mexcept\u001b[0m \u001b[0mIncompleteCommit\u001b[0m\u001b[0;34m:\u001b[0m\u001b[0;34m\u001b[0m\u001b[0;34m\u001b[0m\u001b[0m\n\u001b[1;32m    332\u001b[0m                 \u001b[0;32mraise\u001b[0m\u001b[0;34m\u001b[0m\u001b[0;34m\u001b[0m\u001b[0m\n",
      "\u001b[0;32m~/anaconda3/lib/python3.9/site-packages/neo4j/work/transaction.py\u001b[0m in \u001b[0;36mcommit\u001b[0;34m(self)\u001b[0m\n\u001b[1;32m    152\u001b[0m         \u001b[0mmetadata\u001b[0m \u001b[0;34m=\u001b[0m \u001b[0;34m{\u001b[0m\u001b[0;34m}\u001b[0m\u001b[0;34m\u001b[0m\u001b[0;34m\u001b[0m\u001b[0m\n\u001b[1;32m    153\u001b[0m         \u001b[0;32mtry\u001b[0m\u001b[0;34m:\u001b[0m\u001b[0;34m\u001b[0m\u001b[0;34m\u001b[0m\u001b[0m\n\u001b[0;32m--> 154\u001b[0;31m             \u001b[0mself\u001b[0m\u001b[0;34m.\u001b[0m\u001b[0m_consume_results\u001b[0m\u001b[0;34m(\u001b[0m\u001b[0;34m)\u001b[0m  \u001b[0;31m# DISCARD pending records then do a commit.\u001b[0m\u001b[0;34m\u001b[0m\u001b[0;34m\u001b[0m\u001b[0m\n\u001b[0m\u001b[1;32m    155\u001b[0m             \u001b[0mself\u001b[0m\u001b[0;34m.\u001b[0m\u001b[0m_connection\u001b[0m\u001b[0;34m.\u001b[0m\u001b[0mcommit\u001b[0m\u001b[0;34m(\u001b[0m\u001b[0mon_success\u001b[0m\u001b[0;34m=\u001b[0m\u001b[0mmetadata\u001b[0m\u001b[0;34m.\u001b[0m\u001b[0mupdate\u001b[0m\u001b[0;34m)\u001b[0m\u001b[0;34m\u001b[0m\u001b[0;34m\u001b[0m\u001b[0m\n\u001b[1;32m    156\u001b[0m             \u001b[0mself\u001b[0m\u001b[0;34m.\u001b[0m\u001b[0m_connection\u001b[0m\u001b[0;34m.\u001b[0m\u001b[0msend_all\u001b[0m\u001b[0;34m(\u001b[0m\u001b[0;34m)\u001b[0m\u001b[0;34m\u001b[0m\u001b[0;34m\u001b[0m\u001b[0m\n",
      "\u001b[0;32m~/anaconda3/lib/python3.9/site-packages/neo4j/work/transaction.py\u001b[0m in \u001b[0;36m_consume_results\u001b[0;34m(self)\u001b[0m\n\u001b[1;32m     80\u001b[0m     \u001b[0;32mdef\u001b[0m \u001b[0m_consume_results\u001b[0m\u001b[0;34m(\u001b[0m\u001b[0mself\u001b[0m\u001b[0;34m)\u001b[0m\u001b[0;34m:\u001b[0m\u001b[0;34m\u001b[0m\u001b[0;34m\u001b[0m\u001b[0m\n\u001b[1;32m     81\u001b[0m         \u001b[0;32mfor\u001b[0m \u001b[0mresult\u001b[0m \u001b[0;32min\u001b[0m \u001b[0mself\u001b[0m\u001b[0;34m.\u001b[0m\u001b[0m_results\u001b[0m\u001b[0;34m:\u001b[0m\u001b[0;34m\u001b[0m\u001b[0;34m\u001b[0m\u001b[0m\n\u001b[0;32m---> 82\u001b[0;31m             \u001b[0mresult\u001b[0m\u001b[0;34m.\u001b[0m\u001b[0mconsume\u001b[0m\u001b[0;34m(\u001b[0m\u001b[0;34m)\u001b[0m\u001b[0;34m\u001b[0m\u001b[0;34m\u001b[0m\u001b[0m\n\u001b[0m\u001b[1;32m     83\u001b[0m         \u001b[0mself\u001b[0m\u001b[0;34m.\u001b[0m\u001b[0m_results\u001b[0m \u001b[0;34m=\u001b[0m \u001b[0;34m[\u001b[0m\u001b[0;34m]\u001b[0m\u001b[0;34m\u001b[0m\u001b[0;34m\u001b[0m\u001b[0m\n\u001b[1;32m     84\u001b[0m \u001b[0;34m\u001b[0m\u001b[0m\n",
      "\u001b[0;32m~/anaconda3/lib/python3.9/site-packages/neo4j/work/result.py\u001b[0m in \u001b[0;36mconsume\u001b[0;34m(self)\u001b[0m\n\u001b[1;32m    289\u001b[0m         \u001b[0;32mif\u001b[0m \u001b[0mself\u001b[0m\u001b[0;34m.\u001b[0m\u001b[0m_closed\u001b[0m \u001b[0;32mis\u001b[0m \u001b[0;32mFalse\u001b[0m\u001b[0;34m:\u001b[0m\u001b[0;34m\u001b[0m\u001b[0;34m\u001b[0m\u001b[0m\n\u001b[1;32m    290\u001b[0m             \u001b[0mself\u001b[0m\u001b[0;34m.\u001b[0m\u001b[0m_discarding\u001b[0m \u001b[0;34m=\u001b[0m \u001b[0;32mTrue\u001b[0m\u001b[0;34m\u001b[0m\u001b[0;34m\u001b[0m\u001b[0m\n\u001b[0;32m--> 291\u001b[0;31m             \u001b[0;32mfor\u001b[0m \u001b[0m_\u001b[0m \u001b[0;32min\u001b[0m \u001b[0mself\u001b[0m\u001b[0;34m:\u001b[0m\u001b[0;34m\u001b[0m\u001b[0;34m\u001b[0m\u001b[0m\n\u001b[0m\u001b[1;32m    292\u001b[0m                 \u001b[0;32mpass\u001b[0m\u001b[0;34m\u001b[0m\u001b[0;34m\u001b[0m\u001b[0m\n\u001b[1;32m    293\u001b[0m \u001b[0;34m\u001b[0m\u001b[0m\n",
      "\u001b[0;32m~/anaconda3/lib/python3.9/site-packages/neo4j/work/result.py\u001b[0m in \u001b[0;36m__iter__\u001b[0;34m(self)\u001b[0m\n\u001b[1;32m    185\u001b[0m                 \u001b[0;32myield\u001b[0m \u001b[0mself\u001b[0m\u001b[0;34m.\u001b[0m\u001b[0m_record_buffer\u001b[0m\u001b[0;34m.\u001b[0m\u001b[0mpopleft\u001b[0m\u001b[0;34m(\u001b[0m\u001b[0;34m)\u001b[0m\u001b[0;34m\u001b[0m\u001b[0;34m\u001b[0m\u001b[0m\n\u001b[1;32m    186\u001b[0m             \u001b[0;32melif\u001b[0m \u001b[0mself\u001b[0m\u001b[0;34m.\u001b[0m\u001b[0m_streaming\u001b[0m\u001b[0;34m:\u001b[0m\u001b[0;34m\u001b[0m\u001b[0;34m\u001b[0m\u001b[0m\n\u001b[0;32m--> 187\u001b[0;31m                 \u001b[0mself\u001b[0m\u001b[0;34m.\u001b[0m\u001b[0m_connection\u001b[0m\u001b[0;34m.\u001b[0m\u001b[0mfetch_message\u001b[0m\u001b[0;34m(\u001b[0m\u001b[0;34m)\u001b[0m\u001b[0;34m\u001b[0m\u001b[0;34m\u001b[0m\u001b[0m\n\u001b[0m\u001b[1;32m    188\u001b[0m             \u001b[0;32melif\u001b[0m \u001b[0mself\u001b[0m\u001b[0;34m.\u001b[0m\u001b[0m_discarding\u001b[0m\u001b[0;34m:\u001b[0m\u001b[0;34m\u001b[0m\u001b[0;34m\u001b[0m\u001b[0m\n\u001b[1;32m    189\u001b[0m                 \u001b[0mself\u001b[0m\u001b[0;34m.\u001b[0m\u001b[0m_discard\u001b[0m\u001b[0;34m(\u001b[0m\u001b[0;34m)\u001b[0m\u001b[0;34m\u001b[0m\u001b[0;34m\u001b[0m\u001b[0m\n",
      "\u001b[0;32m~/anaconda3/lib/python3.9/site-packages/neo4j/io/_common.py\u001b[0m in \u001b[0;36minner\u001b[0;34m(*args, **kwargs)\u001b[0m\n\u001b[1;32m    185\u001b[0m             \u001b[0;32mdef\u001b[0m \u001b[0minner\u001b[0m\u001b[0;34m(\u001b[0m\u001b[0;34m*\u001b[0m\u001b[0margs\u001b[0m\u001b[0;34m,\u001b[0m \u001b[0;34m**\u001b[0m\u001b[0mkwargs\u001b[0m\u001b[0;34m)\u001b[0m\u001b[0;34m:\u001b[0m\u001b[0;34m\u001b[0m\u001b[0;34m\u001b[0m\u001b[0m\n\u001b[1;32m    186\u001b[0m                 \u001b[0;32mtry\u001b[0m\u001b[0;34m:\u001b[0m\u001b[0;34m\u001b[0m\u001b[0;34m\u001b[0m\u001b[0m\n\u001b[0;32m--> 187\u001b[0;31m                     \u001b[0mfunc\u001b[0m\u001b[0;34m(\u001b[0m\u001b[0;34m*\u001b[0m\u001b[0margs\u001b[0m\u001b[0;34m,\u001b[0m \u001b[0;34m**\u001b[0m\u001b[0mkwargs\u001b[0m\u001b[0;34m)\u001b[0m\u001b[0;34m\u001b[0m\u001b[0;34m\u001b[0m\u001b[0m\n\u001b[0m\u001b[1;32m    188\u001b[0m                 \u001b[0;32mexcept\u001b[0m \u001b[0;34m(\u001b[0m\u001b[0mNeo4jError\u001b[0m\u001b[0;34m,\u001b[0m \u001b[0mServiceUnavailable\u001b[0m\u001b[0;34m,\u001b[0m \u001b[0mSessionExpired\u001b[0m\u001b[0;34m)\u001b[0m \u001b[0;32mas\u001b[0m \u001b[0mexc\u001b[0m\u001b[0;34m:\u001b[0m\u001b[0;34m\u001b[0m\u001b[0;34m\u001b[0m\u001b[0m\n\u001b[1;32m    189\u001b[0m                     \u001b[0mself\u001b[0m\u001b[0;34m.\u001b[0m\u001b[0m__on_error\u001b[0m\u001b[0;34m(\u001b[0m\u001b[0mexc\u001b[0m\u001b[0;34m)\u001b[0m\u001b[0;34m\u001b[0m\u001b[0;34m\u001b[0m\u001b[0m\n",
      "\u001b[0;32m~/anaconda3/lib/python3.9/site-packages/neo4j/io/_bolt4.py\u001b[0m in \u001b[0;36mfetch_message\u001b[0;34m(self)\u001b[0m\n\u001b[1;32m    300\u001b[0m             \u001b[0mself\u001b[0m\u001b[0;34m.\u001b[0m\u001b[0m_server_state_manager\u001b[0m\u001b[0;34m.\u001b[0m\u001b[0mstate\u001b[0m \u001b[0;34m=\u001b[0m \u001b[0mServerStates\u001b[0m\u001b[0;34m.\u001b[0m\u001b[0mFAILED\u001b[0m\u001b[0;34m\u001b[0m\u001b[0;34m\u001b[0m\u001b[0m\n\u001b[1;32m    301\u001b[0m             \u001b[0;32mtry\u001b[0m\u001b[0;34m:\u001b[0m\u001b[0;34m\u001b[0m\u001b[0;34m\u001b[0m\u001b[0m\n\u001b[0;32m--> 302\u001b[0;31m                 \u001b[0mresponse\u001b[0m\u001b[0;34m.\u001b[0m\u001b[0mon_failure\u001b[0m\u001b[0;34m(\u001b[0m\u001b[0msummary_metadata\u001b[0m \u001b[0;32mor\u001b[0m \u001b[0;34m{\u001b[0m\u001b[0;34m}\u001b[0m\u001b[0;34m)\u001b[0m\u001b[0;34m\u001b[0m\u001b[0;34m\u001b[0m\u001b[0m\n\u001b[0m\u001b[1;32m    303\u001b[0m             \u001b[0;32mexcept\u001b[0m \u001b[0;34m(\u001b[0m\u001b[0mServiceUnavailable\u001b[0m\u001b[0;34m,\u001b[0m \u001b[0mDatabaseUnavailable\u001b[0m\u001b[0;34m)\u001b[0m\u001b[0;34m:\u001b[0m\u001b[0;34m\u001b[0m\u001b[0;34m\u001b[0m\u001b[0m\n\u001b[1;32m    304\u001b[0m                 \u001b[0;32mif\u001b[0m \u001b[0mself\u001b[0m\u001b[0;34m.\u001b[0m\u001b[0mpool\u001b[0m\u001b[0;34m:\u001b[0m\u001b[0;34m\u001b[0m\u001b[0;34m\u001b[0m\u001b[0m\n",
      "\u001b[0;32m~/anaconda3/lib/python3.9/site-packages/neo4j/io/_common.py\u001b[0m in \u001b[0;36mon_failure\u001b[0;34m(self, metadata)\u001b[0m\n\u001b[1;32m    243\u001b[0m         \u001b[0;32mif\u001b[0m \u001b[0mcallable\u001b[0m\u001b[0;34m(\u001b[0m\u001b[0mhandler\u001b[0m\u001b[0;34m)\u001b[0m\u001b[0;34m:\u001b[0m\u001b[0;34m\u001b[0m\u001b[0;34m\u001b[0m\u001b[0m\n\u001b[1;32m    244\u001b[0m             \u001b[0mhandler\u001b[0m\u001b[0;34m(\u001b[0m\u001b[0;34m)\u001b[0m\u001b[0;34m\u001b[0m\u001b[0;34m\u001b[0m\u001b[0m\n\u001b[0;32m--> 245\u001b[0;31m         \u001b[0;32mraise\u001b[0m \u001b[0mNeo4jError\u001b[0m\u001b[0;34m.\u001b[0m\u001b[0mhydrate\u001b[0m\u001b[0;34m(\u001b[0m\u001b[0;34m**\u001b[0m\u001b[0mmetadata\u001b[0m\u001b[0;34m)\u001b[0m\u001b[0;34m\u001b[0m\u001b[0;34m\u001b[0m\u001b[0m\n\u001b[0m\u001b[1;32m    246\u001b[0m \u001b[0;34m\u001b[0m\u001b[0m\n\u001b[1;32m    247\u001b[0m     \u001b[0;32mdef\u001b[0m \u001b[0mon_ignored\u001b[0m\u001b[0;34m(\u001b[0m\u001b[0mself\u001b[0m\u001b[0;34m,\u001b[0m \u001b[0mmetadata\u001b[0m\u001b[0;34m=\u001b[0m\u001b[0;32mNone\u001b[0m\u001b[0;34m)\u001b[0m\u001b[0;34m:\u001b[0m\u001b[0;34m\u001b[0m\u001b[0;34m\u001b[0m\u001b[0m\n",
      "\u001b[0;31mCypherTypeError\u001b[0m: {code: Neo.ClientError.Statement.TypeError} {message: Cannot access a map 'Map{null -> String(\"0\"), 0 -> String(\"99BEDCEB-4FF3-3F8F-88B7-B30E50638F01\"), 1 -> String(\"http://data.europa.eu/esco/skill/08fe5910-8c4c-4679-a988-eb2ded3c4909\")}' by key 'Long(1)': Expected Long(1) to be a org.neo4j.values.storable.TextValue, but it was a org.neo4j.values.storable.LongValue}"
     ]
    }
   ],
   "source": [
    "if __name__ == \"__main__\":\n",
    "    # Aura queries use an encrypted connection using the \"neo4j+s\" URI scheme\n",
    "    uri = \"neo4j+s://fbb398e7.databases.neo4j.io\"\n",
    "    user = \"neo4j\"\n",
    "    password = \"3bO4Zwc9eYOyZBQ_CHE49lqd7NKeLSySJAq4flxUtAA\"\n",
    "    app = App(uri, user, password)\n",
    "#     app.create_skills(\"https://raw.githubusercontent.com/ingastrelnikova/awt-pj-ss22-learn-tech-2/main/data/all_skills.csv\")\n",
    "#     app.create_courses(\"https://raw.githubusercontent.com/ingastrelnikova/awt-pj-ss22-learn-tech-2/main/data/all_courses.csv\")\n",
    "    app.create_relations(\"https://raw.githubusercontent.com/ingastrelnikova/awt-pj-ss22-learn-tech-2/main/data/all_relations.csv\")\n",
    "#     app.create_relation(\"99BEDCEB-4FF3-3F8F-88B7-B30E50638F01\",\"http://data.europa.eu/esco/skill/08fe5910-8c4c-4679-a988-eb2ded3c4909\")\n",
    "    app.close()"
   ]
  },
  {
   "cell_type": "markdown",
   "id": "78121d26",
   "metadata": {},
   "source": [
    "CREATE (ee:Person { name: \"Emil\", from: \"Sweden\", klout: 99 })\n",
    "\n",
    "MATCH (ee:Person) WHERE ee.name = \"Emil\" RETURN ee;\n",
    "\n",
    "CREATE (js:Person { name: \"Johan\", from: \"Sweden\", learn: \"surfing\" }),\n",
    "(ir:Person { name: \"Ian\", from: \"England\", title: \"author\" }),\n",
    "(rvb:Person { name: \"Rik\", from: \"Belgium\", pet: \"Orval\" }),\n",
    "(ally:Person { name: \"Allison\", from: \"California\", hobby: \"surfing\" }),\n",
    "(ee)-[:KNOWS {since: 2001}]->(js),(ee)-[:KNOWS {rating: 5}]->(ir),\n",
    "(js)-[:KNOWS]->(ir),(js)-[:KNOWS]->(rvb),\n",
    "(ir)-[:KNOWS]->(js),(ir)-[:KNOWS]->(ally),\n",
    "(rvb)-[:KNOWS]->(ally)\n",
    "\n",
    "MATCH\n",
    "  (a:Person),\n",
    "  (b:Movie)\n",
    "WHERE a.name = 'Allison' AND b.title = 'The Matrix Revolutions'\n",
    "CREATE (a)-[r:ACTED_IN]->(b)\n",
    "RETURN type(r)\n",
    "\n",
    "MATCH (n) DETACH DELETE n\n",
    "\n",
    "\n",
    "MATCH (n) RETURN n"
   ]
  },
  {
   "cell_type": "code",
   "execution_count": null,
   "id": "a7d3c9ae",
   "metadata": {},
   "outputs": [],
   "source": []
  }
 ],
 "metadata": {
  "kernelspec": {
   "display_name": "Python 3 (ipykernel)",
   "language": "python",
   "name": "python3"
  },
  "language_info": {
   "codemirror_mode": {
    "name": "ipython",
    "version": 3
   },
   "file_extension": ".py",
   "mimetype": "text/x-python",
   "name": "python",
   "nbconvert_exporter": "python",
   "pygments_lexer": "ipython3",
   "version": "3.9.7"
  }
 },
 "nbformat": 4,
 "nbformat_minor": 5
}
