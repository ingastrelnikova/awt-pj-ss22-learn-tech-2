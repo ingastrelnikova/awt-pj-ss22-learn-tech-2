{
 "cells": [
  {
   "cell_type": "code",
<<<<<<< Updated upstream
   "execution_count": 3,
=======
   "execution_count": 1,
>>>>>>> Stashed changes
   "id": "d9d5b50a",
   "metadata": {},
   "outputs": [],
   "source": [
    "from neo4j import GraphDatabase\n",
    "import logging\n",
    "from neo4j.exceptions import ServiceUnavailable\n",
    "import pandas as pd"
   ]
  },
  {
   "cell_type": "markdown",
   "id": "7c1c0b64",
   "metadata": {},
   "source": [
    "# Dataset"
   ]
  },
  {
   "cell_type": "markdown",
   "id": "88608097",
   "metadata": {},
   "source": [
    "## ESCO Skill Dataset"
   ]
  },
  {
   "cell_type": "code",
<<<<<<< Updated upstream
   "execution_count": 4,
=======
   "execution_count": 2,
>>>>>>> Stashed changes
   "id": "f6a483a9",
   "metadata": {},
   "outputs": [
    {
     "ename": "KeyError",
     "evalue": "\"['description'] not in index\"",
     "output_type": "error",
     "traceback": [
      "\u001b[0;31m---------------------------------------------------------------------------\u001b[0m",
      "\u001b[0;31mKeyError\u001b[0m                                  Traceback (most recent call last)",
      "\u001b[0;32m/tmp/ipykernel_6586/3233597086.py\u001b[0m in \u001b[0;36m<module>\u001b[0;34m\u001b[0m\n\u001b[0;32m----> 1\u001b[0;31m \u001b[0mskills\u001b[0m \u001b[0;34m=\u001b[0m \u001b[0mpd\u001b[0m\u001b[0;34m.\u001b[0m\u001b[0mread_csv\u001b[0m\u001b[0;34m(\u001b[0m\u001b[0;34m'../data/all_skills.csv'\u001b[0m\u001b[0;34m)\u001b[0m\u001b[0;34m[\u001b[0m\u001b[0;34m[\u001b[0m\u001b[0;34m'concept_uri'\u001b[0m\u001b[0;34m,\u001b[0m\u001b[0;34m'preferred_label'\u001b[0m\u001b[0;34m,\u001b[0m\u001b[0;34m'description'\u001b[0m\u001b[0;34m]\u001b[0m\u001b[0;34m]\u001b[0m\u001b[0;34m\u001b[0m\u001b[0;34m\u001b[0m\u001b[0m\n\u001b[0m",
      "\u001b[0;32m~/anaconda3/lib/python3.9/site-packages/pandas/core/frame.py\u001b[0m in \u001b[0;36m__getitem__\u001b[0;34m(self, key)\u001b[0m\n\u001b[1;32m   3462\u001b[0m             \u001b[0;32mif\u001b[0m \u001b[0mis_iterator\u001b[0m\u001b[0;34m(\u001b[0m\u001b[0mkey\u001b[0m\u001b[0;34m)\u001b[0m\u001b[0;34m:\u001b[0m\u001b[0;34m\u001b[0m\u001b[0;34m\u001b[0m\u001b[0m\n\u001b[1;32m   3463\u001b[0m                 \u001b[0mkey\u001b[0m \u001b[0;34m=\u001b[0m \u001b[0mlist\u001b[0m\u001b[0;34m(\u001b[0m\u001b[0mkey\u001b[0m\u001b[0;34m)\u001b[0m\u001b[0;34m\u001b[0m\u001b[0;34m\u001b[0m\u001b[0m\n\u001b[0;32m-> 3464\u001b[0;31m             \u001b[0mindexer\u001b[0m \u001b[0;34m=\u001b[0m \u001b[0mself\u001b[0m\u001b[0;34m.\u001b[0m\u001b[0mloc\u001b[0m\u001b[0;34m.\u001b[0m\u001b[0m_get_listlike_indexer\u001b[0m\u001b[0;34m(\u001b[0m\u001b[0mkey\u001b[0m\u001b[0;34m,\u001b[0m \u001b[0maxis\u001b[0m\u001b[0;34m=\u001b[0m\u001b[0;36m1\u001b[0m\u001b[0;34m)\u001b[0m\u001b[0;34m[\u001b[0m\u001b[0;36m1\u001b[0m\u001b[0;34m]\u001b[0m\u001b[0;34m\u001b[0m\u001b[0;34m\u001b[0m\u001b[0m\n\u001b[0m\u001b[1;32m   3465\u001b[0m \u001b[0;34m\u001b[0m\u001b[0m\n\u001b[1;32m   3466\u001b[0m         \u001b[0;31m# take() does not accept boolean indexers\u001b[0m\u001b[0;34m\u001b[0m\u001b[0;34m\u001b[0m\u001b[0m\n",
      "\u001b[0;32m~/anaconda3/lib/python3.9/site-packages/pandas/core/indexing.py\u001b[0m in \u001b[0;36m_get_listlike_indexer\u001b[0;34m(self, key, axis)\u001b[0m\n\u001b[1;32m   1312\u001b[0m             \u001b[0mkeyarr\u001b[0m\u001b[0;34m,\u001b[0m \u001b[0mindexer\u001b[0m\u001b[0;34m,\u001b[0m \u001b[0mnew_indexer\u001b[0m \u001b[0;34m=\u001b[0m \u001b[0max\u001b[0m\u001b[0;34m.\u001b[0m\u001b[0m_reindex_non_unique\u001b[0m\u001b[0;34m(\u001b[0m\u001b[0mkeyarr\u001b[0m\u001b[0;34m)\u001b[0m\u001b[0;34m\u001b[0m\u001b[0;34m\u001b[0m\u001b[0m\n\u001b[1;32m   1313\u001b[0m \u001b[0;34m\u001b[0m\u001b[0m\n\u001b[0;32m-> 1314\u001b[0;31m         \u001b[0mself\u001b[0m\u001b[0;34m.\u001b[0m\u001b[0m_validate_read_indexer\u001b[0m\u001b[0;34m(\u001b[0m\u001b[0mkeyarr\u001b[0m\u001b[0;34m,\u001b[0m \u001b[0mindexer\u001b[0m\u001b[0;34m,\u001b[0m \u001b[0maxis\u001b[0m\u001b[0;34m)\u001b[0m\u001b[0;34m\u001b[0m\u001b[0;34m\u001b[0m\u001b[0m\n\u001b[0m\u001b[1;32m   1315\u001b[0m \u001b[0;34m\u001b[0m\u001b[0m\n\u001b[1;32m   1316\u001b[0m         if needs_i8_conversion(ax.dtype) or isinstance(\n",
      "\u001b[0;32m~/anaconda3/lib/python3.9/site-packages/pandas/core/indexing.py\u001b[0m in \u001b[0;36m_validate_read_indexer\u001b[0;34m(self, key, indexer, axis)\u001b[0m\n\u001b[1;32m   1375\u001b[0m \u001b[0;34m\u001b[0m\u001b[0m\n\u001b[1;32m   1376\u001b[0m             \u001b[0mnot_found\u001b[0m \u001b[0;34m=\u001b[0m \u001b[0mlist\u001b[0m\u001b[0;34m(\u001b[0m\u001b[0mensure_index\u001b[0m\u001b[0;34m(\u001b[0m\u001b[0mkey\u001b[0m\u001b[0;34m)\u001b[0m\u001b[0;34m[\u001b[0m\u001b[0mmissing_mask\u001b[0m\u001b[0;34m.\u001b[0m\u001b[0mnonzero\u001b[0m\u001b[0;34m(\u001b[0m\u001b[0;34m)\u001b[0m\u001b[0;34m[\u001b[0m\u001b[0;36m0\u001b[0m\u001b[0;34m]\u001b[0m\u001b[0;34m]\u001b[0m\u001b[0;34m.\u001b[0m\u001b[0munique\u001b[0m\u001b[0;34m(\u001b[0m\u001b[0;34m)\u001b[0m\u001b[0;34m)\u001b[0m\u001b[0;34m\u001b[0m\u001b[0;34m\u001b[0m\u001b[0m\n\u001b[0;32m-> 1377\u001b[0;31m             \u001b[0;32mraise\u001b[0m \u001b[0mKeyError\u001b[0m\u001b[0;34m(\u001b[0m\u001b[0;34mf\"{not_found} not in index\"\u001b[0m\u001b[0;34m)\u001b[0m\u001b[0;34m\u001b[0m\u001b[0;34m\u001b[0m\u001b[0m\n\u001b[0m\u001b[1;32m   1378\u001b[0m \u001b[0;34m\u001b[0m\u001b[0m\n\u001b[1;32m   1379\u001b[0m \u001b[0;34m\u001b[0m\u001b[0m\n",
      "\u001b[0;31mKeyError\u001b[0m: \"['description'] not in index\""
     ]
    }
   ],
   "source": [
<<<<<<< Updated upstream
    "skills = pd.read_csv('../data/all_skills.csv')[['concept_uri','preferred_label']]"
=======
    "skills = pd.read_csv('../data/all_skills.csv')[['concept_uri','preferred_label','description']]"
   ]
  },
  {
   "cell_type": "code",
   "execution_count": 3,
   "id": "332e4df0",
   "metadata": {},
   "outputs": [
    {
     "ename": "NameError",
     "evalue": "name 'skills' is not defined",
     "output_type": "error",
     "traceback": [
      "\u001b[0;31m---------------------------------------------------------------------------\u001b[0m",
      "\u001b[0;31mNameError\u001b[0m                                 Traceback (most recent call last)",
      "\u001b[0;32m/tmp/ipykernel_6586/1462459373.py\u001b[0m in \u001b[0;36m<module>\u001b[0;34m\u001b[0m\n\u001b[0;32m----> 1\u001b[0;31m \u001b[0mskills\u001b[0m\u001b[0;34m.\u001b[0m\u001b[0mto_csv\u001b[0m\u001b[0;34m(\u001b[0m\u001b[0;34m\"../data/all_skills.csv\"\u001b[0m\u001b[0;34m)\u001b[0m\u001b[0;34m\u001b[0m\u001b[0;34m\u001b[0m\u001b[0m\n\u001b[0m",
      "\u001b[0;31mNameError\u001b[0m: name 'skills' is not defined"
     ]
    }
   ],
   "source": [
    "skills.to_csv(\"../data/all_skills.csv\")"
>>>>>>> Stashed changes
   ]
  },
  {
   "cell_type": "markdown",
   "id": "5aeec918",
   "metadata": {},
   "source": [
    "## DIN PAS 1045 Course Description Datase"
   ]
  },
  {
   "cell_type": "code",
<<<<<<< Updated upstream
   "execution_count": 5,
=======
   "execution_count": 33,
>>>>>>> Stashed changes
   "id": "1288af5a",
   "metadata": {},
   "outputs": [],
   "source": [
    "courses = pd.read_csv('../data/all_courses.csv')[['course_id','course_name','course_description']]"
   ]
  },
  {
   "cell_type": "code",
<<<<<<< Updated upstream
   "execution_count": 23,
=======
   "execution_count": 34,
>>>>>>> Stashed changes
   "id": "c7e488b2",
   "metadata": {},
   "outputs": [],
   "source": [
    "class App:\n",
    "\n",
    "    def __init__(self, uri, user, password):\n",
    "        self.driver = GraphDatabase.driver(uri, auth=(user, password))\n",
    "\n",
    "    def close(self):\n",
    "        # Don't forget to close the driver connection when you are finished with it\n",
    "        self.driver.close()\n",
    "        \n",
    "    def create_skill(self, concept_uri, preferred_label, description):\n",
    "        with self.driver.session() as session:\n",
    "            # Write transactions allow the driver to handle retries and transient errors\n",
    "            result = session.write_transaction(self._create_and_return_skill, \n",
    "                                               concept_uri, preferred_label, description)\n",
    "            \n",
    "    @staticmethod\n",
    "    def _create_and_return_skill(tx, concept_uri, preferred_label, description):\n",
    "        query = (\n",
    "            \"CREATE (skill:Skill {concept_uri: $concept_uri, \\\n",
    "            preferred_label: $preferred_label, description: $description})\"\n",
    "            \"RETURN skill\"\n",
    "        )\n",
    "\n",
    "        results = tx.run(query, concept_uri=skill[\"conceptUri\"], \n",
    "                             preferred_label=skill[\"preferredLabel\"], \n",
    "                             description=skill[\"description\"])\n",
    "\n",
    "        try:\n",
    "            return [{\"conceptUri\": result[\"skill\"][\"concept_uri\"], \n",
    "                     \"preferredLabel\": result[\"skill\"][\"preferred_label\"],\n",
    "                     \"description\": result[\"skill\"][\"description\"]} \n",
    "                    for result in results]\n",
    "            \n",
    "        # Capture any errors along with the query and data for traceability\n",
    "        except ServiceUnavailable as exception:\n",
    "            logging.error(\"{query} raised an error: \\n {exception}\".format(\n",
    "                query=query, exception=exception))\n",
    "            raise\n",
    "    \n",
    "    def create_skills(self, csv_path):\n",
    "        with self.driver.session() as session:\n",
    "            result = session.write_transaction(self._create_skills, csv_path)\n",
    "            \n",
    "    @staticmethod\n",
    "    def _create_skills(tx, csv_path):\n",
    "        assert \"http\" in csv_path, \"Loading csv files from local is \\\n",
    "        not possible due to security reasons, please use online files.\" \n",
    "        query = (\n",
    "            # USING PERIODIC COMMIT 1000 \n",
    "            \"LOAD CSV WITH HEADERS FROM $csv_path AS skill \\\n",
    "            CREATE (:Skill {concept_uri: skill.concept_uri, \\\n",
<<<<<<< Updated upstream
    "            preferred_label: skill.preferred_label, description: skill.description})\"\n",
=======
    "            preferred_label: skill.preferred_label})\"\n",
>>>>>>> Stashed changes
    "        )\n",
    "        results = tx.run(query, csv_path=csv_path)\n",
    "        \n",
    "    def create_course(self, course_name, course_id, course_description):\n",
    "        with self.driver.session() as session:\n",
    "            # Write transactions allow the driver to handle retries and transient errors\n",
    "            result = session.write_transaction(self._create_and_return_course, \n",
    "                                               course_name, course_id, course_description)\n",
    "            \n",
    "    @staticmethod\n",
    "    def _create_and_return_course(tx, course_name, course_id, course_description):\n",
    "        \n",
    "        query = (\n",
    "            \"CREATE (course:Course {course_id: $course_id, course_name: \\\n",
    "            $course_name, course_description: $course_description})\"\n",
    "            \"RETURN course\"\n",
    "        )\n",
    "\n",
    "        results = tx.run(query, course_id=course[\"course_id\"], \n",
    "                             course_name=course[\"course_name\"], \n",
    "                             course_description=course[\"course_description\"])\n",
    "\n",
    "        try:\n",
    "            return [{\"course_id\": result[\"course\"][\"course_id\"], \n",
    "                     \"course_name\": result[\"course\"][\"course_name\"],\n",
    "                     \"course_description\": result[\"course\"][\"course_description\"]} \n",
    "                    for result in results]\n",
    "            \n",
    "        # Capture any errors along with the query and data for traceability\n",
    "        except ServiceUnavailable as exception:\n",
    "            logging.error(\"{query} raised an error: \\n {exception}\".format(\n",
    "                query=query, exception=exception))\n",
    "            raise"
   ]
  },
  {
   "cell_type": "code",
<<<<<<< Updated upstream
   "execution_count": 24,
=======
   "execution_count": 35,
>>>>>>> Stashed changes
   "id": "3543a20b",
   "metadata": {},
   "outputs": [],
   "source": [
    "if __name__ == \"__main__\":\n",
    "    # Aura queries use an encrypted connection using the \"neo4j+s\" URI scheme\n",
    "    uri = \"neo4j+s://fbb398e7.databases.neo4j.io\"\n",
    "    user = \"neo4j\"\n",
    "    password = \"3bO4Zwc9eYOyZBQ_CHE49lqd7NKeLSySJAq4flxUtAA\"\n",
    "    app = App(uri, user, password)\n",
    "    app.create_skills(\"https://github.com/ingastrelnikova/awt-pj-ss22-learn-tech-2/blob/main/data/all_skills.csv\")\n",
    "#     app.create_skill(conceptUri,preferredLabel,description)\n",
    "#     app.create_course(course_id,course_name,course_description)\n",
    "    app.close()"
   ]
  },
  {
   "cell_type": "markdown",
   "id": "53b2ff2d",
   "metadata": {},
   "source": [
    "CREATE (ee:Person { name: \"Emil\", from: \"Sweden\", klout: 99 })\n",
    "\n",
    "MATCH (ee:Person) WHERE ee.name = \"Emil\" RETURN ee;\n",
    "\n",
    "CREATE (js:Person { name: \"Johan\", from: \"Sweden\", learn: \"surfing\" }),\n",
    "(ir:Person { name: \"Ian\", from: \"England\", title: \"author\" }),\n",
    "(rvb:Person { name: \"Rik\", from: \"Belgium\", pet: \"Orval\" }),\n",
    "(ally:Person { name: \"Allison\", from: \"California\", hobby: \"surfing\" }),\n",
    "(ee)-[:KNOWS {since: 2001}]->(js),(ee)-[:KNOWS {rating: 5}]->(ir),\n",
    "(js)-[:KNOWS]->(ir),(js)-[:KNOWS]->(rvb),\n",
    "(ir)-[:KNOWS]->(js),(ir)-[:KNOWS]->(ally),\n",
    "(rvb)-[:KNOWS]->(ally)\n",
    "\n",
    "MATCH\n",
    "  (a:Person),\n",
    "  (b:Movie)\n",
    "WHERE a.name = 'Allison' AND b.title = 'The Matrix Revolutions'\n",
    "CREATE (a)-[r:ACTED_IN]->(b)\n",
    "RETURN type(r)\n",
    "\n",
    "MATCH (n) DETACH DELETE n\n",
    "MATCH (n) RETURN n"
   ]
  },
  {
   "cell_type": "code",
   "execution_count": null,
   "id": "a8ae699a",
   "metadata": {},
   "outputs": [],
   "source": [
    "movieId:ID,title,year:int,:LABEL\n",
    "tt0133093,\"The Matrix\",1999,Movie\n",
    "tt0234215,\"The Matrix Reloaded\",2003,Movie;Sequel\n",
    "tt0242653,\"The Matrix Revolutions\",2003,Movie;Sequel"
   ]
  }
 ],
 "metadata": {
  "kernelspec": {
   "display_name": "Python 3 (ipykernel)",
   "language": "python",
   "name": "python3"
  },
  "language_info": {
   "codemirror_mode": {
    "name": "ipython",
    "version": 3
   },
   "file_extension": ".py",
   "mimetype": "text/x-python",
   "name": "python",
   "nbconvert_exporter": "python",
   "pygments_lexer": "ipython3",
   "version": "3.9.7"
  }
 },
 "nbformat": 4,
 "nbformat_minor": 5
}
