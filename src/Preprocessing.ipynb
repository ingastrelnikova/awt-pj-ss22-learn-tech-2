{
 "cells": [
  {
   "cell_type": "markdown",
   "id": "07a1c900",
   "metadata": {},
   "source": [
    "This is the data preprocessing part, all existing data (under \"data\" folder) has been preprocessed, if there is no new data you can skip this part."
   ]
  },
  {
   "cell_type": "code",
   "execution_count": 4,
   "id": "55462791",
   "metadata": {},
   "outputs": [
    {
     "name": "stderr",
     "output_type": "stream",
     "text": [
      "2022-08-11 07:03:05.324672: W tensorflow/stream_executor/platform/default/dso_loader.cc:64] Could not load dynamic library 'libcudart.so.11.0'; dlerror: libcudart.so.11.0: cannot open shared object file: No such file or directory\n",
      "2022-08-11 07:03:05.324723: I tensorflow/stream_executor/cuda/cudart_stub.cc:29] Ignore above cudart dlerror if you do not have a GPU set up on your machine.\n"
     ]
    }
   ],
   "source": [
    "from xml.etree import ElementTree as ET\n",
    "from tqdm import tqdm\n",
    "import csv\n",
    "import pandas as pd\n",
    "import spacy\n",
    "import re\n",
    "sp = spacy.load('de_core_news_lg')"
   ]
  },
  {
   "cell_type": "markdown",
   "id": "24ab0756",
   "metadata": {},
   "source": [
    "# Raw Data"
   ]
  },
  {
   "cell_type": "markdown",
   "id": "84ae0b8e",
   "metadata": {},
   "source": [
    "## ESCO (Skills)"
   ]
  },
  {
   "cell_type": "markdown",
   "id": "7e0320ba",
   "metadata": {},
   "source": [
    "Downloaded from https://esco.ec.europa.eu/en/use-esco/download\n",
    "\n",
    "Version: ESCO dataset - v1.0.7\n",
    "\n",
    "Content: classification\n",
    "\n",
    "Language: de\n",
    "\n",
    "File type: csv\n",
    "\n",
    "We only used the \"skills_de.csv\" which contains all information of skills themselves"
   ]
  },
  {
   "cell_type": "markdown",
   "id": "06bc2650",
   "metadata": {},
   "source": [
    "## DIN PAS 1045 (Courses)"
   ]
  },
  {
   "cell_type": "markdown",
   "id": "27922c7f",
   "metadata": {},
   "source": [
    "Privoded by Fraunhofer FOKUS\n"
   ]
  },
  {
   "cell_type": "markdown",
   "id": "72b6ebb1",
   "metadata": {},
   "source": [
    "### Extract Course Information from XML Raw as CSV"
   ]
  },
  {
   "cell_type": "code",
   "execution_count": 13,
   "id": "5d8953b8",
   "metadata": {},
   "outputs": [],
   "source": [
    "def import_course(input_file):\n",
    "    tree = ET.parse(input_file)\n",
    "    courses = tree.findall('.//COURSE')\n",
    "\n",
    "    header = ['course_name', 'course_id', 'course_description']\n",
    "    data_list=[]\n",
    "    \n",
    "    for course in courses:\n",
    "        name = course.find('CS_NAME').text\n",
    "        id = course.find('CS_ID').text\n",
    "        description = course.find('CS_DESC_LONG').text\n",
    "        description = description.replace('\\\\','')\n",
    "        data = [name, id, description]\n",
    "        data_list.append(data)\n",
    "\n",
    "    with open('../data/all_courses.csv', 'w', encoding='UTF8', newline='') as f:\n",
    "        writer = csv.writer(f)\n",
    "        # write the header\n",
    "        writer.writerow(header)\n",
    "        # write the data\n",
    "        writer.writerows(data_list)"
   ]
  },
  {
   "cell_type": "markdown",
   "id": "dbd04310",
   "metadata": {},
   "source": [
    "\"2022-05-10_FOKUS_AWT_CompetencyExtraction_WB_Brandenburg_re-encoded.xml\": complete dataset\n",
    "    \n",
    "\"2022-05-10_FOKUS_AWT_CompetencyExtraction_WB_Brandenburg_control_re-encoded.xml\": evaluation dataset\n",
    "\n",
    "Choose one of those"
   ]
  },
  {
   "cell_type": "code",
   "execution_count": 14,
   "id": "aab154be",
   "metadata": {},
   "outputs": [],
   "source": [
    "# import_course('../data/2022-05-10_FOKUS_AWT_CompetencyExtraction_WB_Brandenburg_re-encoded.xml')\n",
    "import_course('../data/2022-05-10_FOKUS_AWT_CompetencyExtraction_WB_Brandenburg_control_re-encoded.xml')"
   ]
  },
  {
   "cell_type": "markdown",
   "id": "a041e9c1",
   "metadata": {},
   "source": [
    "# Dataset "
   ]
  },
  {
   "cell_type": "markdown",
   "id": "7a68e346",
   "metadata": {},
   "source": [
    "##  Skill Dataset"
   ]
  },
  {
   "cell_type": "code",
   "execution_count": 11,
   "id": "8e7ac244",
   "metadata": {},
   "outputs": [
    {
     "data": {
      "text/html": [
       "<div>\n",
       "<style scoped>\n",
       "    .dataframe tbody tr th:only-of-type {\n",
       "        vertical-align: middle;\n",
       "    }\n",
       "\n",
       "    .dataframe tbody tr th {\n",
       "        vertical-align: top;\n",
       "    }\n",
       "\n",
       "    .dataframe thead th {\n",
       "        text-align: right;\n",
       "    }\n",
       "</style>\n",
       "<table border=\"1\" class=\"dataframe\">\n",
       "  <thead>\n",
       "    <tr style=\"text-align: right;\">\n",
       "      <th></th>\n",
       "      <th>concept_uri</th>\n",
       "      <th>preferred_label</th>\n",
       "      <th>description</th>\n",
       "    </tr>\n",
       "  </thead>\n",
       "  <tbody>\n",
       "    <tr>\n",
       "      <th>0</th>\n",
       "      <td>http://data.europa.eu/esco/skill/0005c151-5b5a...</td>\n",
       "      <td>Musikpersonal verwalten</td>\n",
       "      <td>Zuweisen und Verwalten der Aufgaben des Person...</td>\n",
       "    </tr>\n",
       "    <tr>\n",
       "      <th>1</th>\n",
       "      <td>http://data.europa.eu/esco/skill/00064735-8fad...</td>\n",
       "      <td>Strafvollzugsverfahren beaufsichtigen</td>\n",
       "      <td>Überwachen des Betriebs einer Justizvollzugsan...</td>\n",
       "    </tr>\n",
       "    <tr>\n",
       "      <th>2</th>\n",
       "      <td>http://data.europa.eu/esco/skill/000709ed-2be5...</td>\n",
       "      <td>nicht unterdrückende Praktiken anwenden</td>\n",
       "      <td>Ermitteln von Repressionen in Gesellschaften, ...</td>\n",
       "    </tr>\n",
       "    <tr>\n",
       "      <th>3</th>\n",
       "      <td>http://data.europa.eu/esco/skill/0007bdc2-dd15...</td>\n",
       "      <td>Einhaltung von Vorschriften von Eisenbahnfahrz...</td>\n",
       "      <td>Kontrollieren von Fahrzeugen, Komponenten und ...</td>\n",
       "    </tr>\n",
       "    <tr>\n",
       "      <th>4</th>\n",
       "      <td>http://data.europa.eu/esco/skill/00090cc1-1f27...</td>\n",
       "      <td>verfügbare Dienste ermitteln</td>\n",
       "      <td>Ermitteln der verschiedenen verfügbaren Dienst...</td>\n",
       "    </tr>\n",
       "    <tr>\n",
       "      <th>...</th>\n",
       "      <td>...</td>\n",
       "      <td>...</td>\n",
       "      <td>...</td>\n",
       "    </tr>\n",
       "    <tr>\n",
       "      <th>13886</th>\n",
       "      <td>http://data.europa.eu/esco/skill/ffef5eb3-a15e...</td>\n",
       "      <td>berufliche Leistungsfähigkeit von Nutzern/Nutz...</td>\n",
       "      <td>Wiederherstellen der kognitiven, sensomotorisc...</td>\n",
       "    </tr>\n",
       "    <tr>\n",
       "      <th>13887</th>\n",
       "      <td>http://data.europa.eu/esco/skill/fff0b074-5a76...</td>\n",
       "      <td>Beleuchtung in Transportgeräten einbauen</td>\n",
       "      <td>Einbau von Beleuchtungselementen in Transportg...</td>\n",
       "    </tr>\n",
       "    <tr>\n",
       "      <th>13888</th>\n",
       "      <td>http://data.europa.eu/esco/skill/fff0e2cd-d0bd...</td>\n",
       "      <td>Verarbeitung natürlicher Sprache</td>\n",
       "      <td>Technologien, die es IKT-Geräten ermöglichen, ...</td>\n",
       "    </tr>\n",
       "    <tr>\n",
       "      <th>13889</th>\n",
       "      <td>http://data.europa.eu/esco/skill/fff5bc45-b506...</td>\n",
       "      <td>Bauarbeiten koordinieren</td>\n",
       "      <td>Koordinierung der Tätigkeiten mehrerer Bauarbe...</td>\n",
       "    </tr>\n",
       "    <tr>\n",
       "      <th>13890</th>\n",
       "      <td>http://data.europa.eu/esco/skill/fff74a70-4f82...</td>\n",
       "      <td>Absturzsicherungen und Bordbretter anbringen</td>\n",
       "      <td>Anbringen von Absturzsicherungen und Bordbrett...</td>\n",
       "    </tr>\n",
       "  </tbody>\n",
       "</table>\n",
       "<p>13891 rows × 3 columns</p>\n",
       "</div>"
      ],
      "text/plain": [
       "                                             concept_uri  \\\n",
       "0      http://data.europa.eu/esco/skill/0005c151-5b5a...   \n",
       "1      http://data.europa.eu/esco/skill/00064735-8fad...   \n",
       "2      http://data.europa.eu/esco/skill/000709ed-2be5...   \n",
       "3      http://data.europa.eu/esco/skill/0007bdc2-dd15...   \n",
       "4      http://data.europa.eu/esco/skill/00090cc1-1f27...   \n",
       "...                                                  ...   \n",
       "13886  http://data.europa.eu/esco/skill/ffef5eb3-a15e...   \n",
       "13887  http://data.europa.eu/esco/skill/fff0b074-5a76...   \n",
       "13888  http://data.europa.eu/esco/skill/fff0e2cd-d0bd...   \n",
       "13889  http://data.europa.eu/esco/skill/fff5bc45-b506...   \n",
       "13890  http://data.europa.eu/esco/skill/fff74a70-4f82...   \n",
       "\n",
       "                                         preferred_label  \\\n",
       "0                                Musikpersonal verwalten   \n",
       "1                  Strafvollzugsverfahren beaufsichtigen   \n",
       "2                nicht unterdrückende Praktiken anwenden   \n",
       "3      Einhaltung von Vorschriften von Eisenbahnfahrz...   \n",
       "4                           verfügbare Dienste ermitteln   \n",
       "...                                                  ...   \n",
       "13886  berufliche Leistungsfähigkeit von Nutzern/Nutz...   \n",
       "13887           Beleuchtung in Transportgeräten einbauen   \n",
       "13888                   Verarbeitung natürlicher Sprache   \n",
       "13889                           Bauarbeiten koordinieren   \n",
       "13890       Absturzsicherungen und Bordbretter anbringen   \n",
       "\n",
       "                                             description  \n",
       "0      Zuweisen und Verwalten der Aufgaben des Person...  \n",
       "1      Überwachen des Betriebs einer Justizvollzugsan...  \n",
       "2      Ermitteln von Repressionen in Gesellschaften, ...  \n",
       "3      Kontrollieren von Fahrzeugen, Komponenten und ...  \n",
       "4      Ermitteln der verschiedenen verfügbaren Dienst...  \n",
       "...                                                  ...  \n",
       "13886  Wiederherstellen der kognitiven, sensomotorisc...  \n",
       "13887  Einbau von Beleuchtungselementen in Transportg...  \n",
       "13888  Technologien, die es IKT-Geräten ermöglichen, ...  \n",
       "13889  Koordinierung der Tätigkeiten mehrerer Bauarbe...  \n",
       "13890  Anbringen von Absturzsicherungen und Bordbrett...  \n",
       "\n",
       "[13891 rows x 3 columns]"
      ]
     },
     "execution_count": 11,
     "metadata": {},
     "output_type": "execute_result"
    }
   ],
   "source": [
    "skills = pd.read_csv('../data/skills_de.csv')[['conceptUri','preferredLabel','description']]\n",
    "skills.columns = ['concept_uri','preferred_label','description']\n",
    "skills.to_csv('../data/all_skills.csv', index = False)\n",
    "skills"
   ]
  },
  {
   "cell_type": "markdown",
   "id": "5df611f2",
   "metadata": {},
   "source": [
    "## DIN PAS 1045 Course Description Dataset"
   ]
  },
  {
   "cell_type": "code",
   "execution_count": 12,
   "id": "67f2ae43",
   "metadata": {},
   "outputs": [
    {
     "data": {
      "text/html": [
       "<div>\n",
       "<style scoped>\n",
       "    .dataframe tbody tr th:only-of-type {\n",
       "        vertical-align: middle;\n",
       "    }\n",
       "\n",
       "    .dataframe tbody tr th {\n",
       "        vertical-align: top;\n",
       "    }\n",
       "\n",
       "    .dataframe thead th {\n",
       "        text-align: right;\n",
       "    }\n",
       "</style>\n",
       "<table border=\"1\" class=\"dataframe\">\n",
       "  <thead>\n",
       "    <tr style=\"text-align: right;\">\n",
       "      <th></th>\n",
       "      <th>course_id</th>\n",
       "      <th>course_name</th>\n",
       "      <th>course_description</th>\n",
       "    </tr>\n",
       "  </thead>\n",
       "  <tbody>\n",
       "    <tr>\n",
       "      <th>0</th>\n",
       "      <td>4A873264-7ADD-DE47-3039-1FDA692E8164</td>\n",
       "      <td>\"Schwierige\" Klienten? - Mit Patienten, Angehö...</td>\n",
       "      <td>- Analyse strapaziöser Gesprächsmuster\\n- Schw...</td>\n",
       "    </tr>\n",
       "    <tr>\n",
       "      <th>1</th>\n",
       "      <td>99BEDCEB-4FF3-3F8F-88B7-B30E50638F01</td>\n",
       "      <td>Aktuelles Arbeitsrecht 2022</td>\n",
       "      <td>Kurzbeschreibung\\nDas Arbeitsrecht unterliegt ...</td>\n",
       "    </tr>\n",
       "    <tr>\n",
       "      <th>2</th>\n",
       "      <td>97FD41FD-1A91-179C-3EA5-6A23E2F436D5</td>\n",
       "      <td>Ambulante Pflege - Rechtssicher Handeln und Ha...</td>\n",
       "      <td>- Grundlagen der straf- und zivilrechtlichen H...</td>\n",
       "    </tr>\n",
       "    <tr>\n",
       "      <th>3</th>\n",
       "      <td>A0CC573A-79D7-79A4-5B22-F675C4F06950</td>\n",
       "      <td>Aufgaben des gesetzlichen Betreuers - Zur Refo...</td>\n",
       "      <td>Kurzbeschreibung\\nNoch im Jahr 2020 plant der ...</td>\n",
       "    </tr>\n",
       "    <tr>\n",
       "      <th>4</th>\n",
       "      <td>7C449EF7-12A8-82FC-0E5E-BD2885FDB93C</td>\n",
       "      <td>Basisqualifikation für ungelernte Pflegekräfte...</td>\n",
       "      <td>- Alten- und Krankenpflege\\n  . Körperpflege\\n...</td>\n",
       "    </tr>\n",
       "    <tr>\n",
       "      <th>...</th>\n",
       "      <td>...</td>\n",
       "      <td>...</td>\n",
       "      <td>...</td>\n",
       "    </tr>\n",
       "    <tr>\n",
       "      <th>16847</th>\n",
       "      <td>A1E046BE-1C4B-B977-C9B9-88D8D2860107</td>\n",
       "      <td>5 Monate Weiterbildung: Organisation &amp; Führung...</td>\n",
       "      <td>Die aktuell vorherrschende Situation auf dem A...</td>\n",
       "    </tr>\n",
       "    <tr>\n",
       "      <th>16848</th>\n",
       "      <td>A1DF8EEB-D317-70BA-508F-AFC732369860</td>\n",
       "      <td>Conversion und Usability Experte</td>\n",
       "      <td>Ziel der Maßnahme ist es den Teilnehmern eine ...</td>\n",
       "    </tr>\n",
       "    <tr>\n",
       "      <th>16849</th>\n",
       "      <td>A1DD9D98-2BA3-3A11-0A24-72FC4C79422A</td>\n",
       "      <td>Digital Transformation Management</td>\n",
       "      <td>Ziel der Maßnahme ist es den Teilnehmern eine ...</td>\n",
       "    </tr>\n",
       "    <tr>\n",
       "      <th>16850</th>\n",
       "      <td>A1DD60F7-9B6E-ECEE-F1DF-53FED2DCCC5C</td>\n",
       "      <td>E-Commerce Geschäftsmodelle</td>\n",
       "      <td>Ziel der Maßnahme ist es den Teilnehmern eine ...</td>\n",
       "    </tr>\n",
       "    <tr>\n",
       "      <th>16851</th>\n",
       "      <td>A1E01A90-D165-5959-2102-771B5459852B</td>\n",
       "      <td>Experte im Digital Content Creation</td>\n",
       "      <td>Die Teilnehmer werden zu einem Digital Content...</td>\n",
       "    </tr>\n",
       "  </tbody>\n",
       "</table>\n",
       "<p>16852 rows × 3 columns</p>\n",
       "</div>"
      ],
      "text/plain": [
       "                                  course_id  \\\n",
       "0      4A873264-7ADD-DE47-3039-1FDA692E8164   \n",
       "1      99BEDCEB-4FF3-3F8F-88B7-B30E50638F01   \n",
       "2      97FD41FD-1A91-179C-3EA5-6A23E2F436D5   \n",
       "3      A0CC573A-79D7-79A4-5B22-F675C4F06950   \n",
       "4      7C449EF7-12A8-82FC-0E5E-BD2885FDB93C   \n",
       "...                                     ...   \n",
       "16847  A1E046BE-1C4B-B977-C9B9-88D8D2860107   \n",
       "16848  A1DF8EEB-D317-70BA-508F-AFC732369860   \n",
       "16849  A1DD9D98-2BA3-3A11-0A24-72FC4C79422A   \n",
       "16850  A1DD60F7-9B6E-ECEE-F1DF-53FED2DCCC5C   \n",
       "16851  A1E01A90-D165-5959-2102-771B5459852B   \n",
       "\n",
       "                                             course_name  \\\n",
       "0      \"Schwierige\" Klienten? - Mit Patienten, Angehö...   \n",
       "1                            Aktuelles Arbeitsrecht 2022   \n",
       "2      Ambulante Pflege - Rechtssicher Handeln und Ha...   \n",
       "3      Aufgaben des gesetzlichen Betreuers - Zur Refo...   \n",
       "4      Basisqualifikation für ungelernte Pflegekräfte...   \n",
       "...                                                  ...   \n",
       "16847  5 Monate Weiterbildung: Organisation & Führung...   \n",
       "16848                   Conversion und Usability Experte   \n",
       "16849                  Digital Transformation Management   \n",
       "16850                        E-Commerce Geschäftsmodelle   \n",
       "16851                Experte im Digital Content Creation   \n",
       "\n",
       "                                      course_description  \n",
       "0      - Analyse strapaziöser Gesprächsmuster\\n- Schw...  \n",
       "1      Kurzbeschreibung\\nDas Arbeitsrecht unterliegt ...  \n",
       "2      - Grundlagen der straf- und zivilrechtlichen H...  \n",
       "3      Kurzbeschreibung\\nNoch im Jahr 2020 plant der ...  \n",
       "4      - Alten- und Krankenpflege\\n  . Körperpflege\\n...  \n",
       "...                                                  ...  \n",
       "16847  Die aktuell vorherrschende Situation auf dem A...  \n",
       "16848  Ziel der Maßnahme ist es den Teilnehmern eine ...  \n",
       "16849  Ziel der Maßnahme ist es den Teilnehmern eine ...  \n",
       "16850  Ziel der Maßnahme ist es den Teilnehmern eine ...  \n",
       "16851  Die Teilnehmer werden zu einem Digital Content...  \n",
       "\n",
       "[16852 rows x 3 columns]"
      ]
     },
     "execution_count": 12,
     "metadata": {},
     "output_type": "execute_result"
    }
   ],
   "source": [
    "courses = pd.read_csv('../data/all_courses.csv')[['course_id','course_name','course_description']]\n",
    "courses.to_csv('../data/all_courses.csv', index = False)\n",
    "courses"
   ]
  },
  {
   "cell_type": "markdown",
   "id": "269fb283",
   "metadata": {},
   "source": [
    "# Data Preprocessing"
   ]
  },
  {
   "cell_type": "code",
   "execution_count": 13,
   "id": "cdfb6855",
   "metadata": {},
   "outputs": [],
   "source": [
    "def process_ER(doc):\n",
    "    doc = sp(doc)\n",
    "    doc_processed = ''\n",
    "    for token in doc:\n",
    "        for punctuation in ['/', \"/-\", \"-\"]:\n",
    "            if punctuation in token.text:\n",
    "                temp = token.text.replace(punctuation,'')\n",
    "                if len(temp) != 0: token = sp(temp)[0]\n",
    "        if not token.is_stop and not token.is_digit:\n",
    "            #and re.match('^[äöüÄÖÜßA-Za-z0-9_-]*$', word.text):\n",
    "            token = token.lemma_.lower()\n",
    "            if token != \"--\": doc_processed += token.strip() + ' '\n",
    "    return doc_processed.strip()\n",
    "\n",
    "def process_NN(doc):\n",
    "    doc = sp(doc)\n",
    "    doc_processed = ''\n",
    "    for token in doc:\n",
    "        if not token.is_space:\n",
    "            if token.is_punct and token.text != ',' : doc_processed += '. ' \n",
    "            else: doc_processed += token.text + ' '\n",
    "    return doc_processed[:-1]"
   ]
  },
  {
   "cell_type": "markdown",
   "id": "ba7fd825",
   "metadata": {},
   "source": [
    "## ESCO Skills Dataset"
   ]
  },
  {
   "cell_type": "markdown",
   "id": "71984bce",
   "metadata": {},
   "source": [
    "### Skill Labels"
   ]
  },
  {
   "cell_type": "code",
   "execution_count": 14,
   "id": "34a92df9",
   "metadata": {},
   "outputs": [],
   "source": [
    "skills['processed_label'] = skills['preferred_label'].apply(process_ER)"
   ]
  },
  {
   "cell_type": "code",
   "execution_count": 15,
   "id": "dae3a3a9",
   "metadata": {},
   "outputs": [
    {
     "data": {
      "text/plain": [
       "0                                  musikpersonal verwalten\n",
       "1                      strafvollzugsverfahr beaufsichtigen\n",
       "2                           unterdrückend praktik anwenden\n",
       "3        einhaltung vorschrift eisenbahnfahrzeuge überp...\n",
       "4                               verfügbar dienst ermitteln\n",
       "                               ...                        \n",
       "13886    beruflich leistungsfähigkeit nutzer nutzerinn ...\n",
       "13887                  beleuchtung transportgerät einbauen\n",
       "13888                       verarbeitung natürlich sprache\n",
       "13889                               bauarbeit koordinieren\n",
       "13890               absturzsicherung bordbretter anbringen\n",
       "Name: processed_label, Length: 13891, dtype: object"
      ]
     },
     "execution_count": 15,
     "metadata": {},
     "output_type": "execute_result"
    }
   ],
   "source": [
    "skills['processed_label'].to_csv(\"../data/labels_processed.csv\")\n",
    "skills['processed_label']"
   ]
  },
  {
   "cell_type": "markdown",
   "id": "97645d9b",
   "metadata": {},
   "source": [
    "### Skill Information\n",
    "We used \"preferredLabel\" and \"description\" columns together as the feature."
   ]
  },
  {
   "cell_type": "code",
   "execution_count": 16,
   "id": "3ea90a33",
   "metadata": {},
   "outputs": [],
   "source": [
    "skills['info'] = skills['preferred_label'] + '. ' + skills['description']"
   ]
  },
  {
   "cell_type": "code",
   "execution_count": 17,
   "id": "d6aef8ab",
   "metadata": {},
   "outputs": [
    {
     "data": {
      "text/plain": [
       "0        Musikpersonal verwalten, Zuweisen und Verwalte...\n",
       "1        Strafvollzugsverfahren beaufsichtigen, Überwac...\n",
       "2        nicht unterdrückende Praktiken anwenden, Ermit...\n",
       "3        Einhaltung von Vorschriften von Eisenbahnfahrz...\n",
       "4        verfügbare Dienste ermitteln, Ermitteln der ve...\n",
       "                               ...                        \n",
       "13886    berufliche Leistungsfähigkeit von Nutzern/Nutz...\n",
       "13887    Beleuchtung in Transportgeräten einbauen, Einb...\n",
       "13888    Verarbeitung natürlicher Sprache, Technologien...\n",
       "13889    Bauarbeiten koordinieren, Koordinierung der Tä...\n",
       "13890    Absturzsicherungen und Bordbretter anbringen, ...\n",
       "Name: info, Length: 13891, dtype: object"
      ]
     },
     "execution_count": 17,
     "metadata": {},
     "output_type": "execute_result"
    }
   ],
   "source": [
    "skills['info'].to_csv(\"../data/skills_info.csv\")\n",
    "skills['info']"
   ]
  },
  {
   "cell_type": "markdown",
   "id": "891600ca",
   "metadata": {},
   "source": [
    "## DIN PAS 1045 Course Description Dataset"
   ]
  },
  {
   "cell_type": "markdown",
   "id": "ac4cffd4",
   "metadata": {},
   "source": [
    "### Course Information\n",
    "We used \"course_name\" and \"couse_description\" columns together as the feature."
   ]
  },
  {
   "cell_type": "code",
   "execution_count": 18,
   "id": "e51760fc",
   "metadata": {},
   "outputs": [],
   "source": [
    "courses['course_info'] = courses['course_name'] + '. ' + courses['course_description']"
   ]
  },
  {
   "cell_type": "code",
   "execution_count": 19,
   "id": "128261bc",
   "metadata": {},
   "outputs": [],
   "source": [
    "courses['course_info_ER'] = courses['course_info'].apply(process_ER)"
   ]
  },
  {
   "cell_type": "code",
   "execution_count": 20,
   "id": "904255be",
   "metadata": {},
   "outputs": [
    {
     "data": {
      "text/plain": [
       "0        schwierig klient patient angehörige kollege cl...\n",
       "1        aktuelles arbeitsrecht 2022. kurzbeschreibung ...\n",
       "2        ambulant pflege rechtssicher handeln haftungsr...\n",
       "3        aufgabe gesetzlich betreuer reform betreuungsr...\n",
       "4        basisqualifikation ungelernt pflegekräft zerti...\n",
       "                               ...                        \n",
       "16847    monat weiterbildung organisation & führung lea...\n",
       "16848    conversion usability experte ziel maßnahme tei...\n",
       "16849    digital transformation management ziel maßnahm...\n",
       "16850    ecommerce geschäftsmodell ziel maßnahme teilne...\n",
       "16851    experte digital content creation teilnehmer di...\n",
       "Name: course_info_ER, Length: 16852, dtype: object"
      ]
     },
     "execution_count": 20,
     "metadata": {},
     "output_type": "execute_result"
    }
   ],
   "source": [
    "courses['course_info_ER'].to_csv(\"../data/courses_info_ER.csv\")\n",
    "courses['course_info_ER']"
   ]
  },
  {
   "cell_type": "code",
   "execution_count": 21,
   "id": "dcd8048b",
   "metadata": {},
   "outputs": [],
   "source": [
    "courses['course_info_NN'] = courses['course_info'].apply(process_NN)"
   ]
  },
  {
   "cell_type": "code",
   "execution_count": 22,
   "id": "912d9b33",
   "metadata": {},
   "outputs": [
    {
     "data": {
      "text/plain": [
       "0        . Schwierige . Klienten . . Mit Patienten , An...\n",
       "1        Aktuelles Arbeitsrecht 2022. Kurzbeschreibung ...\n",
       "2        Ambulante Pflege . Rechtssicher Handeln und Ha...\n",
       "3        Aufgaben des gesetzlichen Betreuers . Zur Refo...\n",
       "4        Basisqualifikation für ungelernte Pflegekräfte...\n",
       "                               ...                        \n",
       "16847    5 Monate Weiterbildung . Organisation . Führun...\n",
       "16848    Conversion und Usability Experte . Ziel der Ma...\n",
       "16849    Digital Transformation Management . Ziel der M...\n",
       "16850    E-Commerce Geschäftsmodelle . Ziel der Maßnahm...\n",
       "16851    Experte im Digital Content Creation . Die Teil...\n",
       "Name: course_info_NN, Length: 16852, dtype: object"
      ]
     },
     "execution_count": 22,
     "metadata": {},
     "output_type": "execute_result"
    }
   ],
   "source": [
    "courses['course_info_NN'].to_csv(\"../data/courses_info_NN.csv\")\n",
    "courses['course_info_NN']"
   ]
  }
 ],
 "metadata": {
  "kernelspec": {
   "display_name": "Python 3 (ipykernel)",
   "language": "python",
   "name": "python3"
  },
  "language_info": {
   "codemirror_mode": {
    "name": "ipython",
    "version": 3
   },
   "file_extension": ".py",
   "mimetype": "text/x-python",
   "name": "python",
   "nbconvert_exporter": "python",
   "pygments_lexer": "ipython3",
   "version": "3.9.7"
  }
 },
 "nbformat": 4,
 "nbformat_minor": 5
}
