{
 "cells": [
  {
   "cell_type": "markdown",
   "id": "07a1c900",
   "metadata": {},
   "source": [
    "This is the data preprocessing part, all existing data (under \"data\" folder) has been preprocessed, if there is no new data you can skip this part."
   ]
  },
  {
   "cell_type": "code",
   "execution_count": 1,
   "id": "55462791",
   "metadata": {},
   "outputs": [
    {
     "name": "stderr",
     "output_type": "stream",
     "text": [
      "2022-08-11 20:20:15.941487: W tensorflow/stream_executor/platform/default/dso_loader.cc:64] Could not load dynamic library 'libcudart.so.11.0'; dlerror: libcudart.so.11.0: cannot open shared object file: No such file or directory\n",
      "2022-08-11 20:20:15.941549: I tensorflow/stream_executor/cuda/cudart_stub.cc:29] Ignore above cudart dlerror if you do not have a GPU set up on your machine.\n"
     ]
    }
   ],
   "source": [
    "from xml.etree import ElementTree as ET\n",
    "from tqdm import tqdm\n",
    "import csv\n",
    "import pandas as pd\n",
    "import spacy\n",
    "import re\n",
    "sp = spacy.load('de_core_news_lg')"
   ]
  },
  {
   "cell_type": "markdown",
   "id": "24ab0756",
   "metadata": {},
   "source": [
    "# Raw Data"
   ]
  },
  {
   "cell_type": "markdown",
   "id": "84ae0b8e",
   "metadata": {},
   "source": [
    "## ESCO (Skills)"
   ]
  },
  {
   "cell_type": "markdown",
   "id": "7e0320ba",
   "metadata": {},
   "source": [
    "Downloaded from https://esco.ec.europa.eu/en/use-esco/download\n",
    "\n",
    "Version: ESCO dataset - v1.0.7\n",
    "\n",
    "Content: classification\n",
    "\n",
    "Language: de\n",
    "\n",
    "File type: csv\n",
    "\n",
    "We only used the \"skills_de.csv\" which contains all information of skills themselves"
   ]
  },
  {
   "cell_type": "markdown",
   "id": "06bc2650",
   "metadata": {},
   "source": [
    "## DIN PAS 1045 (Courses)"
   ]
  },
  {
   "cell_type": "markdown",
   "id": "27922c7f",
   "metadata": {},
   "source": [
    "Privoded by Fraunhofer FOKUS\n"
   ]
  },
  {
   "cell_type": "markdown",
   "id": "72b6ebb1",
   "metadata": {},
   "source": [
    "### Extract Course Information from XML Raw as CSV"
   ]
  },
  {
   "cell_type": "code",
   "execution_count": 2,
   "id": "5d8953b8",
   "metadata": {},
   "outputs": [],
   "source": [
    "def import_course(input_file):\n",
    "    tree = ET.parse(input_file)\n",
    "    courses = tree.findall('.//COURSE')\n",
    "\n",
    "    header = ['course_name', 'course_id', 'course_description']\n",
    "    data_list=[]\n",
    "    \n",
    "    for course in courses:\n",
    "        name = course.find('CS_NAME').text\n",
    "        id = course.find('CS_ID').text\n",
    "        description = course.find('CS_DESC_LONG').text\n",
    "        description = description.replace('\\\\','')\n",
    "        data = [name, id, description]\n",
    "        data_list.append(data)\n",
    "\n",
    "    with open('../data/all_courses.csv', 'w', encoding='UTF8', newline='') as f:\n",
    "        writer = csv.writer(f)\n",
    "        # write the header\n",
    "        writer.writerow(header)\n",
    "        # write the data\n",
    "        writer.writerows(data_list)"
   ]
  },
  {
   "cell_type": "markdown",
   "id": "dbd04310",
   "metadata": {},
   "source": [
    "\"2022-05-10_FOKUS_AWT_CompetencyExtraction_WB_Brandenburg_re-encoded.xml\": complete dataset\n",
    "    \n",
    "\"2022-05-10_FOKUS_AWT_CompetencyExtraction_WB_Brandenburg_control_re-encoded.xml\": evaluation dataset\n",
    "\n",
    "Choose one of those"
   ]
  },
  {
   "cell_type": "code",
   "execution_count": 3,
   "id": "aab154be",
   "metadata": {},
   "outputs": [],
   "source": [
    "# import_course('../data/2022-05-10_FOKUS_AWT_CompetencyExtraction_WB_Brandenburg_re-encoded.xml')\n",
    "import_course('../data/2022-05-10_FOKUS_AWT_CompetencyExtraction_WB_Brandenburg_control_re-encoded.xml')"
   ]
  },
  {
   "cell_type": "markdown",
   "id": "a041e9c1",
   "metadata": {},
   "source": [
    "# Dataset "
   ]
  },
  {
   "cell_type": "markdown",
   "id": "7a68e346",
   "metadata": {},
   "source": [
    "##  Skill Dataset"
   ]
  },
  {
   "cell_type": "code",
   "execution_count": 4,
   "id": "8e7ac244",
   "metadata": {},
   "outputs": [
    {
     "data": {
      "text/html": [
       "<div>\n",
       "<style scoped>\n",
       "    .dataframe tbody tr th:only-of-type {\n",
       "        vertical-align: middle;\n",
       "    }\n",
       "\n",
       "    .dataframe tbody tr th {\n",
       "        vertical-align: top;\n",
       "    }\n",
       "\n",
       "    .dataframe thead th {\n",
       "        text-align: right;\n",
       "    }\n",
       "</style>\n",
       "<table border=\"1\" class=\"dataframe\">\n",
       "  <thead>\n",
       "    <tr style=\"text-align: right;\">\n",
       "      <th></th>\n",
       "      <th>concept_uri</th>\n",
       "      <th>preferred_label</th>\n",
       "      <th>description</th>\n",
       "    </tr>\n",
       "  </thead>\n",
       "  <tbody>\n",
       "    <tr>\n",
       "      <th>0</th>\n",
       "      <td>http://data.europa.eu/esco/skill/0005c151-5b5a...</td>\n",
       "      <td>Musikpersonal verwalten</td>\n",
       "      <td>Zuweisen und Verwalten der Aufgaben des Person...</td>\n",
       "    </tr>\n",
       "    <tr>\n",
       "      <th>1</th>\n",
       "      <td>http://data.europa.eu/esco/skill/00064735-8fad...</td>\n",
       "      <td>Strafvollzugsverfahren beaufsichtigen</td>\n",
       "      <td>Überwachen des Betriebs einer Justizvollzugsan...</td>\n",
       "    </tr>\n",
       "    <tr>\n",
       "      <th>2</th>\n",
       "      <td>http://data.europa.eu/esco/skill/000709ed-2be5...</td>\n",
       "      <td>nicht unterdrückende Praktiken anwenden</td>\n",
       "      <td>Ermitteln von Repressionen in Gesellschaften, ...</td>\n",
       "    </tr>\n",
       "    <tr>\n",
       "      <th>3</th>\n",
       "      <td>http://data.europa.eu/esco/skill/0007bdc2-dd15...</td>\n",
       "      <td>Einhaltung von Vorschriften von Eisenbahnfahrz...</td>\n",
       "      <td>Kontrollieren von Fahrzeugen, Komponenten und ...</td>\n",
       "    </tr>\n",
       "    <tr>\n",
       "      <th>4</th>\n",
       "      <td>http://data.europa.eu/esco/skill/00090cc1-1f27...</td>\n",
       "      <td>verfügbare Dienste ermitteln</td>\n",
       "      <td>Ermitteln der verschiedenen verfügbaren Dienst...</td>\n",
       "    </tr>\n",
       "    <tr>\n",
       "      <th>...</th>\n",
       "      <td>...</td>\n",
       "      <td>...</td>\n",
       "      <td>...</td>\n",
       "    </tr>\n",
       "    <tr>\n",
       "      <th>13886</th>\n",
       "      <td>http://data.europa.eu/esco/skill/ffef5eb3-a15e...</td>\n",
       "      <td>berufliche Leistungsfähigkeit von Nutzern/Nutz...</td>\n",
       "      <td>Wiederherstellen der kognitiven, sensomotorisc...</td>\n",
       "    </tr>\n",
       "    <tr>\n",
       "      <th>13887</th>\n",
       "      <td>http://data.europa.eu/esco/skill/fff0b074-5a76...</td>\n",
       "      <td>Beleuchtung in Transportgeräten einbauen</td>\n",
       "      <td>Einbau von Beleuchtungselementen in Transportg...</td>\n",
       "    </tr>\n",
       "    <tr>\n",
       "      <th>13888</th>\n",
       "      <td>http://data.europa.eu/esco/skill/fff0e2cd-d0bd...</td>\n",
       "      <td>Verarbeitung natürlicher Sprache</td>\n",
       "      <td>Technologien, die es IKT-Geräten ermöglichen, ...</td>\n",
       "    </tr>\n",
       "    <tr>\n",
       "      <th>13889</th>\n",
       "      <td>http://data.europa.eu/esco/skill/fff5bc45-b506...</td>\n",
       "      <td>Bauarbeiten koordinieren</td>\n",
       "      <td>Koordinierung der Tätigkeiten mehrerer Bauarbe...</td>\n",
       "    </tr>\n",
       "    <tr>\n",
       "      <th>13890</th>\n",
       "      <td>http://data.europa.eu/esco/skill/fff74a70-4f82...</td>\n",
       "      <td>Absturzsicherungen und Bordbretter anbringen</td>\n",
       "      <td>Anbringen von Absturzsicherungen und Bordbrett...</td>\n",
       "    </tr>\n",
       "  </tbody>\n",
       "</table>\n",
       "<p>13891 rows × 3 columns</p>\n",
       "</div>"
      ],
      "text/plain": [
       "                                             concept_uri  \\\n",
       "0      http://data.europa.eu/esco/skill/0005c151-5b5a...   \n",
       "1      http://data.europa.eu/esco/skill/00064735-8fad...   \n",
       "2      http://data.europa.eu/esco/skill/000709ed-2be5...   \n",
       "3      http://data.europa.eu/esco/skill/0007bdc2-dd15...   \n",
       "4      http://data.europa.eu/esco/skill/00090cc1-1f27...   \n",
       "...                                                  ...   \n",
       "13886  http://data.europa.eu/esco/skill/ffef5eb3-a15e...   \n",
       "13887  http://data.europa.eu/esco/skill/fff0b074-5a76...   \n",
       "13888  http://data.europa.eu/esco/skill/fff0e2cd-d0bd...   \n",
       "13889  http://data.europa.eu/esco/skill/fff5bc45-b506...   \n",
       "13890  http://data.europa.eu/esco/skill/fff74a70-4f82...   \n",
       "\n",
       "                                         preferred_label  \\\n",
       "0                                Musikpersonal verwalten   \n",
       "1                  Strafvollzugsverfahren beaufsichtigen   \n",
       "2                nicht unterdrückende Praktiken anwenden   \n",
       "3      Einhaltung von Vorschriften von Eisenbahnfahrz...   \n",
       "4                           verfügbare Dienste ermitteln   \n",
       "...                                                  ...   \n",
       "13886  berufliche Leistungsfähigkeit von Nutzern/Nutz...   \n",
       "13887           Beleuchtung in Transportgeräten einbauen   \n",
       "13888                   Verarbeitung natürlicher Sprache   \n",
       "13889                           Bauarbeiten koordinieren   \n",
       "13890       Absturzsicherungen und Bordbretter anbringen   \n",
       "\n",
       "                                             description  \n",
       "0      Zuweisen und Verwalten der Aufgaben des Person...  \n",
       "1      Überwachen des Betriebs einer Justizvollzugsan...  \n",
       "2      Ermitteln von Repressionen in Gesellschaften, ...  \n",
       "3      Kontrollieren von Fahrzeugen, Komponenten und ...  \n",
       "4      Ermitteln der verschiedenen verfügbaren Dienst...  \n",
       "...                                                  ...  \n",
       "13886  Wiederherstellen der kognitiven, sensomotorisc...  \n",
       "13887  Einbau von Beleuchtungselementen in Transportg...  \n",
       "13888  Technologien, die es IKT-Geräten ermöglichen, ...  \n",
       "13889  Koordinierung der Tätigkeiten mehrerer Bauarbe...  \n",
       "13890  Anbringen von Absturzsicherungen und Bordbrett...  \n",
       "\n",
       "[13891 rows x 3 columns]"
      ]
     },
     "execution_count": 4,
     "metadata": {},
     "output_type": "execute_result"
    }
   ],
   "source": [
    "skills = pd.read_csv('../data/skills_de.csv')[['conceptUri','preferredLabel','description']]\n",
    "skills.columns = ['concept_uri','preferred_label','description']\n",
    "skills.to_csv('../data/all_skills.csv', index = False)\n",
    "skills"
   ]
  },
  {
   "cell_type": "markdown",
   "id": "5df611f2",
   "metadata": {},
   "source": [
    "## DIN PAS 1045 Course Description Dataset"
   ]
  },
  {
   "cell_type": "code",
   "execution_count": 5,
   "id": "67f2ae43",
   "metadata": {},
   "outputs": [
    {
     "data": {
      "text/html": [
       "<div>\n",
       "<style scoped>\n",
       "    .dataframe tbody tr th:only-of-type {\n",
       "        vertical-align: middle;\n",
       "    }\n",
       "\n",
       "    .dataframe tbody tr th {\n",
       "        vertical-align: top;\n",
       "    }\n",
       "\n",
       "    .dataframe thead th {\n",
       "        text-align: right;\n",
       "    }\n",
       "</style>\n",
       "<table border=\"1\" class=\"dataframe\">\n",
       "  <thead>\n",
       "    <tr style=\"text-align: right;\">\n",
       "      <th></th>\n",
       "      <th>course_id</th>\n",
       "      <th>course_name</th>\n",
       "      <th>course_description</th>\n",
       "    </tr>\n",
       "  </thead>\n",
       "  <tbody>\n",
       "    <tr>\n",
       "      <th>0</th>\n",
       "      <td>A1E06AAB-F264-4308-F318-2C2E43E1CB54</td>\n",
       "      <td>Experte im Prozessmanagement</td>\n",
       "      <td>Die aktuell vorherrschende Situation auf dem A...</td>\n",
       "    </tr>\n",
       "    <tr>\n",
       "      <th>1</th>\n",
       "      <td>A1DFC244-E07B-BE74-4422-1995EE3B5F8A</td>\n",
       "      <td>Experte in Cloud Computing</td>\n",
       "      <td>\"Cloud Computing\" ist die bedarfsabhängige Ber...</td>\n",
       "    </tr>\n",
       "    <tr>\n",
       "      <th>2</th>\n",
       "      <td>A1E08F41-0B47-7D51-C6F5-47D497F050F0</td>\n",
       "      <td>Experte in Investition und Finanzierung</td>\n",
       "      <td>Die aktuell vorherrschende Situation auf dem A...</td>\n",
       "    </tr>\n",
       "    <tr>\n",
       "      <th>3</th>\n",
       "      <td>A1DFF789-1B71-1CD5-F972-9AA4F3B32C8B</td>\n",
       "      <td>Experte in Unternehmensaufbau und Organisation</td>\n",
       "      <td>Der Kurs zielt auf die Verbesserung der Führun...</td>\n",
       "    </tr>\n",
       "    <tr>\n",
       "      <th>4</th>\n",
       "      <td>A1E05E65-48FD-DE85-520D-283A9117BCD9</td>\n",
       "      <td>Experte in Unternehmensführung</td>\n",
       "      <td>Die aktuell vorherrschende Situation auf dem A...</td>\n",
       "    </tr>\n",
       "    <tr>\n",
       "      <th>5</th>\n",
       "      <td>A1E0969B-12DB-B016-964F-919D1DEB0112</td>\n",
       "      <td>IT-Projektmanagement</td>\n",
       "      <td>Die aktuell vorherrschende Situation auf dem A...</td>\n",
       "    </tr>\n",
       "    <tr>\n",
       "      <th>6</th>\n",
       "      <td>A1DFDEA2-E36E-E91A-D9B8-3F0956BECDE6</td>\n",
       "      <td>PHP Programmierer und Datenbankentwickler</td>\n",
       "      <td>PHP (Hypertext Preprocessor) ist eine quelloff...</td>\n",
       "    </tr>\n",
       "    <tr>\n",
       "      <th>7</th>\n",
       "      <td>A1DFEB90-BC08-8DA2-A8A2-30C4C2E6E989</td>\n",
       "      <td>Programmierung PHP Frameworks: Laravel, Symfon...</td>\n",
       "      <td>PHP (Hypertext Preprocessor) ist eine quelloff...</td>\n",
       "    </tr>\n",
       "    <tr>\n",
       "      <th>8</th>\n",
       "      <td>A1DF7719-5965-53A1-C4CF-22D1AEE3D88B</td>\n",
       "      <td>Shopsystem Administrator</td>\n",
       "      <td>Ziel der Maßnahme ist es den Teilnehmern eine ...</td>\n",
       "    </tr>\n",
       "    <tr>\n",
       "      <th>9</th>\n",
       "      <td>A1DF94D9-0547-7ED8-AB3C-6233DFB724AE</td>\n",
       "      <td>Social-Media Manager</td>\n",
       "      <td>Ziel der Maßnahme ist es den Teilnehmern eine ...</td>\n",
       "    </tr>\n",
       "    <tr>\n",
       "      <th>10</th>\n",
       "      <td>A1DD78D1-C5CC-CB76-91F6-FA3AC74780B0</td>\n",
       "      <td>Starte jetzt: Heranführung an die selbstständi...</td>\n",
       "      <td>Die Heranführung an die selbstständige Tätigke...</td>\n",
       "    </tr>\n",
       "    <tr>\n",
       "      <th>11</th>\n",
       "      <td>A1E07893-73F6-6C44-285C-80EC26E6F55D</td>\n",
       "      <td>Vermarktungsstrategien online und offline</td>\n",
       "      <td>Die aktuell vorherrschende Situation auf dem A...</td>\n",
       "    </tr>\n",
       "    <tr>\n",
       "      <th>12</th>\n",
       "      <td>A1DFB21A-E5C1-1E03-CF6A-21A80834E19B</td>\n",
       "      <td>Webentwicklung 2.0 - HTML5, CSS3, WordPress</td>\n",
       "      <td>Ziel der Maßnahme ist es den Teilnehmern eine ...</td>\n",
       "    </tr>\n",
       "    <tr>\n",
       "      <th>13</th>\n",
       "      <td>A1DD8697-1F77-7DCA-4010-76D1AEBDE054</td>\n",
       "      <td>Zukunftswert Mensch: tiefgreifend-wirksame ind...</td>\n",
       "      <td>Die erfolgreiche Integration in den ersten Arb...</td>\n",
       "    </tr>\n",
       "    <tr>\n",
       "      <th>14</th>\n",
       "      <td>A06BA7DE-27F8-852E-6B8D-447F09FF6077</td>\n",
       "      <td>Weiterbildung Wildnispädagogik</td>\n",
       "      <td>Wir freuen uns mit euch fünf intensive, umfass...</td>\n",
       "    </tr>\n",
       "    <tr>\n",
       "      <th>15</th>\n",
       "      <td>A0C57A36-C189-91B3-E817-ABC41C71401F</td>\n",
       "      <td>Qualifizierung zur Anerkennung für Erzieher*in...</td>\n",
       "      <td>Seit April 2021 können sich Erzieher*innen mit...</td>\n",
       "    </tr>\n",
       "    <tr>\n",
       "      <th>16</th>\n",
       "      <td>A0CA7A7B-D327-7696-5003-452D53EB3777</td>\n",
       "      <td>Digitales spielbasiertes Lernen - Einsatzmögli...</td>\n",
       "      <td>Teach&amp;Play hat das Ziel, das in Learn&amp;Play ent...</td>\n",
       "    </tr>\n",
       "    <tr>\n",
       "      <th>17</th>\n",
       "      <td>A0CA8AEC-98C1-1D6F-1831-FFBC9DE00861</td>\n",
       "      <td>Digitales spielbasiertes Lernen - Einsatzmögli...</td>\n",
       "      <td>Sie bringen zur Weiterbildung ein Beispiel aus...</td>\n",
       "    </tr>\n",
       "    <tr>\n",
       "      <th>18</th>\n",
       "      <td>A1E00470-9251-11EC-AB1A-357BCD0E40C4</td>\n",
       "      <td>Fernlehrgang Fortbildung Aufmaßtechniker*in (ZAB)</td>\n",
       "      <td>Die Fortbildung Aufmaßtechniker*in (ZAB) verse...</td>\n",
       "    </tr>\n",
       "  </tbody>\n",
       "</table>\n",
       "</div>"
      ],
      "text/plain": [
       "                               course_id  \\\n",
       "0   A1E06AAB-F264-4308-F318-2C2E43E1CB54   \n",
       "1   A1DFC244-E07B-BE74-4422-1995EE3B5F8A   \n",
       "2   A1E08F41-0B47-7D51-C6F5-47D497F050F0   \n",
       "3   A1DFF789-1B71-1CD5-F972-9AA4F3B32C8B   \n",
       "4   A1E05E65-48FD-DE85-520D-283A9117BCD9   \n",
       "5   A1E0969B-12DB-B016-964F-919D1DEB0112   \n",
       "6   A1DFDEA2-E36E-E91A-D9B8-3F0956BECDE6   \n",
       "7   A1DFEB90-BC08-8DA2-A8A2-30C4C2E6E989   \n",
       "8   A1DF7719-5965-53A1-C4CF-22D1AEE3D88B   \n",
       "9   A1DF94D9-0547-7ED8-AB3C-6233DFB724AE   \n",
       "10  A1DD78D1-C5CC-CB76-91F6-FA3AC74780B0   \n",
       "11  A1E07893-73F6-6C44-285C-80EC26E6F55D   \n",
       "12  A1DFB21A-E5C1-1E03-CF6A-21A80834E19B   \n",
       "13  A1DD8697-1F77-7DCA-4010-76D1AEBDE054   \n",
       "14  A06BA7DE-27F8-852E-6B8D-447F09FF6077   \n",
       "15  A0C57A36-C189-91B3-E817-ABC41C71401F   \n",
       "16  A0CA7A7B-D327-7696-5003-452D53EB3777   \n",
       "17  A0CA8AEC-98C1-1D6F-1831-FFBC9DE00861   \n",
       "18  A1E00470-9251-11EC-AB1A-357BCD0E40C4   \n",
       "\n",
       "                                          course_name  \\\n",
       "0                        Experte im Prozessmanagement   \n",
       "1                          Experte in Cloud Computing   \n",
       "2             Experte in Investition und Finanzierung   \n",
       "3      Experte in Unternehmensaufbau und Organisation   \n",
       "4                      Experte in Unternehmensführung   \n",
       "5                                IT-Projektmanagement   \n",
       "6           PHP Programmierer und Datenbankentwickler   \n",
       "7   Programmierung PHP Frameworks: Laravel, Symfon...   \n",
       "8                            Shopsystem Administrator   \n",
       "9                                Social-Media Manager   \n",
       "10  Starte jetzt: Heranführung an die selbstständi...   \n",
       "11          Vermarktungsstrategien online und offline   \n",
       "12        Webentwicklung 2.0 - HTML5, CSS3, WordPress   \n",
       "13  Zukunftswert Mensch: tiefgreifend-wirksame ind...   \n",
       "14                     Weiterbildung Wildnispädagogik   \n",
       "15  Qualifizierung zur Anerkennung für Erzieher*in...   \n",
       "16  Digitales spielbasiertes Lernen - Einsatzmögli...   \n",
       "17  Digitales spielbasiertes Lernen - Einsatzmögli...   \n",
       "18  Fernlehrgang Fortbildung Aufmaßtechniker*in (ZAB)   \n",
       "\n",
       "                                   course_description  \n",
       "0   Die aktuell vorherrschende Situation auf dem A...  \n",
       "1   \"Cloud Computing\" ist die bedarfsabhängige Ber...  \n",
       "2   Die aktuell vorherrschende Situation auf dem A...  \n",
       "3   Der Kurs zielt auf die Verbesserung der Führun...  \n",
       "4   Die aktuell vorherrschende Situation auf dem A...  \n",
       "5   Die aktuell vorherrschende Situation auf dem A...  \n",
       "6   PHP (Hypertext Preprocessor) ist eine quelloff...  \n",
       "7   PHP (Hypertext Preprocessor) ist eine quelloff...  \n",
       "8   Ziel der Maßnahme ist es den Teilnehmern eine ...  \n",
       "9   Ziel der Maßnahme ist es den Teilnehmern eine ...  \n",
       "10  Die Heranführung an die selbstständige Tätigke...  \n",
       "11  Die aktuell vorherrschende Situation auf dem A...  \n",
       "12  Ziel der Maßnahme ist es den Teilnehmern eine ...  \n",
       "13  Die erfolgreiche Integration in den ersten Arb...  \n",
       "14  Wir freuen uns mit euch fünf intensive, umfass...  \n",
       "15  Seit April 2021 können sich Erzieher*innen mit...  \n",
       "16  Teach&Play hat das Ziel, das in Learn&Play ent...  \n",
       "17  Sie bringen zur Weiterbildung ein Beispiel aus...  \n",
       "18  Die Fortbildung Aufmaßtechniker*in (ZAB) verse...  "
      ]
     },
     "execution_count": 5,
     "metadata": {},
     "output_type": "execute_result"
    }
   ],
   "source": [
    "courses = pd.read_csv('../data/all_courses.csv')[['course_id','course_name','course_description']]\n",
    "courses.to_csv('../data/all_courses.csv', index = False)\n",
    "courses"
   ]
  },
  {
   "cell_type": "markdown",
   "id": "269fb283",
   "metadata": {},
   "source": [
    "# Data Preprocessing"
   ]
  },
  {
   "cell_type": "code",
   "execution_count": 6,
   "id": "cdfb6855",
   "metadata": {},
   "outputs": [],
   "source": [
    "def process_ER(doc):\n",
    "    doc = sp(doc)\n",
    "    doc_processed = ''\n",
    "    for token in doc:\n",
    "        for punctuation in ['/', \"/-\", \"-\"]:\n",
    "            if punctuation in token.text:\n",
    "                temp = token.text.replace(punctuation,'')\n",
    "                if len(temp) != 0: token = sp(temp)[0]\n",
    "        if not token.is_stop and not token.is_digit:\n",
    "            #and re.match('^[äöüÄÖÜßA-Za-z0-9_-]*$', word.text):\n",
    "            token = token.lemma_.lower()\n",
    "            if token != \"--\": doc_processed += token.strip() + ' '\n",
    "    return doc_processed.strip()\n",
    "\n",
    "def process_NN(doc):\n",
    "    doc = sp(doc)\n",
    "    doc_processed = ''\n",
    "    for token in doc:\n",
    "        if not token.is_space:\n",
    "            if token.is_punct and token.text != ',' : doc_processed += '. ' \n",
    "            else: doc_processed += token.text + ' '\n",
    "    return doc_processed[:-1]"
   ]
  },
  {
   "cell_type": "markdown",
   "id": "ba7fd825",
   "metadata": {},
   "source": [
    "## ESCO Skills Dataset"
   ]
  },
  {
   "cell_type": "markdown",
   "id": "71984bce",
   "metadata": {},
   "source": [
    "### Skill Labels"
   ]
  },
  {
   "cell_type": "code",
   "execution_count": 7,
   "id": "34a92df9",
   "metadata": {},
   "outputs": [],
   "source": [
    "skills['processed_label'] = skills['preferred_label'].apply(process_ER)"
   ]
  },
  {
   "cell_type": "code",
   "execution_count": 8,
   "id": "dae3a3a9",
   "metadata": {},
   "outputs": [
    {
     "data": {
      "text/plain": [
       "0                                  musikpersonal verwalten\n",
       "1                      strafvollzugsverfahr beaufsichtigen\n",
       "2                           unterdrückend praktik anwenden\n",
       "3        einhaltung vorschrift eisenbahnfahrzeuge überp...\n",
       "4                               verfügbar dienst ermitteln\n",
       "                               ...                        \n",
       "13886    beruflich leistungsfähigkeit nutzer nutzerinn ...\n",
       "13887                  beleuchtung transportgerät einbauen\n",
       "13888                       verarbeitung natürlich sprache\n",
       "13889                               bauarbeit koordinieren\n",
       "13890               absturzsicherung bordbretter anbringen\n",
       "Name: processed_label, Length: 13891, dtype: object"
      ]
     },
     "execution_count": 8,
     "metadata": {},
     "output_type": "execute_result"
    }
   ],
   "source": [
    "skills['processed_label'].to_csv(\"../data/labels_processed.csv\")\n",
    "skills['processed_label']"
   ]
  },
  {
   "cell_type": "markdown",
   "id": "97645d9b",
   "metadata": {},
   "source": [
    "### Skill Information\n",
    "We used \"preferredLabel\" and \"description\" columns together as the feature."
   ]
  },
  {
   "cell_type": "code",
   "execution_count": 9,
   "id": "3ea90a33",
   "metadata": {},
   "outputs": [],
   "source": [
    "skills['info'] = skills['preferred_label'] + '. ' + skills['description']"
   ]
  },
  {
   "cell_type": "code",
   "execution_count": 10,
   "id": "d6aef8ab",
   "metadata": {},
   "outputs": [
    {
     "data": {
      "text/plain": [
       "0        Musikpersonal verwalten. Zuweisen und Verwalte...\n",
       "1        Strafvollzugsverfahren beaufsichtigen. Überwac...\n",
       "2        nicht unterdrückende Praktiken anwenden. Ermit...\n",
       "3        Einhaltung von Vorschriften von Eisenbahnfahrz...\n",
       "4        verfügbare Dienste ermitteln. Ermitteln der ve...\n",
       "                               ...                        \n",
       "13886    berufliche Leistungsfähigkeit von Nutzern/Nutz...\n",
       "13887    Beleuchtung in Transportgeräten einbauen. Einb...\n",
       "13888    Verarbeitung natürlicher Sprache. Technologien...\n",
       "13889    Bauarbeiten koordinieren. Koordinierung der Tä...\n",
       "13890    Absturzsicherungen und Bordbretter anbringen. ...\n",
       "Name: info, Length: 13891, dtype: object"
      ]
     },
     "execution_count": 10,
     "metadata": {},
     "output_type": "execute_result"
    }
   ],
   "source": [
    "skills['info'].to_csv(\"../data/skills_info.csv\")\n",
    "skills['info']"
   ]
  },
  {
   "cell_type": "markdown",
   "id": "891600ca",
   "metadata": {},
   "source": [
    "## DIN PAS 1045 Course Description Dataset"
   ]
  },
  {
   "cell_type": "markdown",
   "id": "ac4cffd4",
   "metadata": {},
   "source": [
    "### Course Information\n",
    "We used \"course_name\" and \"couse_description\" columns together as the feature."
   ]
  },
  {
   "cell_type": "code",
   "execution_count": 11,
   "id": "e51760fc",
   "metadata": {},
   "outputs": [],
   "source": [
    "courses['course_info'] = courses['course_name'] + '. ' + courses['course_description']"
   ]
  },
  {
   "cell_type": "code",
   "execution_count": 12,
   "id": "128261bc",
   "metadata": {},
   "outputs": [],
   "source": [
    "courses['course_info_ER'] = courses['course_info'].apply(process_ER)"
   ]
  },
  {
   "cell_type": "code",
   "execution_count": 13,
   "id": "904255be",
   "metadata": {},
   "outputs": [
    {
     "data": {
      "text/plain": [
       "0     experte prozessmanagement aktuell vorherrschen...\n",
       "1     experte cloud computing cloud computing bedarf...\n",
       "2     experte investition finanzierung aktuell vorhe...\n",
       "3     experte unternehmensaufbau organisation kurs z...\n",
       "4     experte unternehmensführung aktuell vorherrsch...\n",
       "5     itprojektmanagement aktuell vorherrschend situ...\n",
       "6     php programmierer datenbankentwickler php hype...\n",
       "7     programmierung php framework laravel symfony z...\n",
       "8     shopsystem administrator ziel maßnahme teilneh...\n",
       "9     socialmedia manager ziel maßnahme teilnehmer s...\n",
       "10    starte heranführung selbstständig tätigkeit he...\n",
       "11    vermarktungsstrategie online offline aktuell v...\n",
       "12    webentwicklung 2.0 html5 css3 wordpress ziel m...\n",
       "13    zukunftswert mensch tiefgreifendwirksame indiv...\n",
       "14    weiterbildung wildnispädagogik freuen intensiv...\n",
       "15    qualifizierung anerkennung erzieher*inn iq net...\n",
       "16    digital spielbasiert lernen einsatzmöglichkeit...\n",
       "17    digital spielbasiert lernen einsatzmöglichkeit...\n",
       "18    fernlehrgang fortbildung aufmaßtechniker*in za...\n",
       "Name: course_info_ER, dtype: object"
      ]
     },
     "execution_count": 13,
     "metadata": {},
     "output_type": "execute_result"
    }
   ],
   "source": [
    "courses['course_info_ER'].to_csv(\"../data/courses_info_ER.csv\")\n",
    "courses['course_info_ER']"
   ]
  },
  {
   "cell_type": "code",
   "execution_count": 14,
   "id": "dcd8048b",
   "metadata": {},
   "outputs": [],
   "source": [
    "courses['course_info_NN'] = courses['course_info'].apply(process_NN)"
   ]
  },
  {
   "cell_type": "code",
   "execution_count": 15,
   "id": "912d9b33",
   "metadata": {},
   "outputs": [
    {
     "data": {
      "text/plain": [
       "0     Experte im Prozessmanagement . Die aktuell vor...\n",
       "1     Experte in Cloud Computing . . Cloud Computing...\n",
       "2     Experte in Investition und Finanzierung . Die ...\n",
       "3     Experte in Unternehmensaufbau und Organisation...\n",
       "4     Experte in Unternehmensführung . Die aktuell v...\n",
       "5     IT-Projektmanagement . Die aktuell vorherrsche...\n",
       "6     PHP Programmierer und Datenbankentwickler . PH...\n",
       "7     Programmierung PHP Frameworks . Laravel , Symf...\n",
       "8     Shopsystem Administrator . Ziel der Maßnahme i...\n",
       "9     Social-Media Manager . Ziel der Maßnahme ist e...\n",
       "10    Starte jetzt . Heranführung an die selbstständ...\n",
       "11    Vermarktungsstrategien online und offline . Di...\n",
       "12    Webentwicklung 2.0 . HTML5 , CSS3 , WordPress ...\n",
       "13    Zukunftswert Mensch . tiefgreifend-wirksame in...\n",
       "14    Weiterbildung Wildnispädagogik . Wir freuen un...\n",
       "15    Qualifizierung zur Anerkennung für Erzieher*in...\n",
       "16    Digitales spielbasiertes Lernen . Einsatzmögli...\n",
       "17    Digitales spielbasiertes Lernen . Einsatzmögli...\n",
       "18    Fernlehrgang Fortbildung Aufmaßtechniker*in . ...\n",
       "Name: course_info_NN, dtype: object"
      ]
     },
     "execution_count": 15,
     "metadata": {},
     "output_type": "execute_result"
    }
   ],
   "source": [
    "courses['course_info_NN'].to_csv(\"../data/courses_info_NN.csv\")\n",
    "courses['course_info_NN']"
   ]
  }
 ],
 "metadata": {
  "kernelspec": {
   "display_name": "Python 3 (ipykernel)",
   "language": "python",
   "name": "python3"
  },
  "language_info": {
   "codemirror_mode": {
    "name": "ipython",
    "version": 3
   },
   "file_extension": ".py",
   "mimetype": "text/x-python",
   "name": "python",
   "nbconvert_exporter": "python",
   "pygments_lexer": "ipython3",
   "version": "3.9.7"
  }
 },
 "nbformat": 4,
 "nbformat_minor": 5
}
