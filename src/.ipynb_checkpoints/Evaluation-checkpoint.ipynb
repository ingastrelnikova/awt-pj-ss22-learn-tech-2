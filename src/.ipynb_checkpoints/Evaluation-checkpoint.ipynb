{
 "cells": [
  {
   "cell_type": "code",
   "execution_count": 7,
   "id": "86cac567",
   "metadata": {},
   "outputs": [],
   "source": [
    "import pandas as pd"
   ]
  },
  {
   "cell_type": "code",
   "execution_count": 8,
   "id": "c28d1eaa",
   "metadata": {},
   "outputs": [],
   "source": [
    "sample_relations = pd.read_csv('../data/sample_relations.csv')\n",
    "sample_course_ids = sample_relations.course_id.unique()"
   ]
  },
  {
   "cell_type": "code",
   "execution_count": 9,
   "id": "6f80926f",
   "metadata": {},
   "outputs": [],
   "source": [
    "result_files_NN = ['all_relations_NN_0.4_5.csv','all_relations_NN_0.4_10.csv','all_relations_NN_0.4_15.csv',\n",
    "                   'all_relations_NN_0.4_20.csv','all_relations_NN_0.42_5.csv','all_relations_NN_0.42_10.csv',\n",
    "                   'all_relations_NN_0.42_15.csv','all_relations_NN_0.42_20.csv','all_relations_NN_0.44_5.csv',\n",
    "                   'all_relations_NN_0.44_10.csv','all_relations_NN_0.44_15.csv','all_relations_NN_0.44_20.csv',\n",
    "                   'all_relations_NN_0.46_5.csv','all_relations_NN_0.46_10.csv','all_relations_NN_0.46_15.csv',\n",
    "                   'all_relations_NN_0.46_20.csv']\n",
    "results_files_ER = ['all_relations_ER.csv']"
   ]
  },
  {
   "cell_type": "code",
   "execution_count": null,
   "id": "8e0212fc",
   "metadata": {},
   "outputs": [],
   "source": [
    "for result_file_NN in result_files_NN:\n",
    "    predicted_relations_NN = pd.read_csv('../data/{}'.format(result_file_NN))\n",
    "    predicted_relations_ER = pd.read_csv('../data/{}'.format(results_files_ER[0]))\n",
    "    print(result_file_NN,', all_relations_ER.csv :')\n",
    "    print()\n",
    "    for course_id in sample_course_ids:\n",
    "        sample_concept_uris = sample_relations[sample_relations.course_id \n",
    "                                               == course_id].concept_uri.tolist()\n",
    "        predicted_concept_uris_NN = predicted_relations_NN[predicted_relations_NN.course_id \n",
    "                                                           == course_id].concept_uri.tolist()\n",
    "        predicted_concept_uris_ER = predicted_relations_ER[predicted_relations_ER.course_id \n",
    "                                                           == course_id].concept_uri.tolist()\n",
    "        TF = 0\n",
    "        N_samples = len(sample_concept_uris)\n",
    "        N_predictions = len(predicted_concept_uris_NN) + len(predicted_concept_uris_ER)\n",
    "        for predicted_concept_uri_NN in predicted_concept_uris_NN:\n",
    "            if predicted_concept_uri_NN in sample_concept_uris: TF += 1\n",
    "        for predicted_concept_uri_ER in predicted_concept_uris_ER:\n",
    "            if predicted_concept_uri_ER in sample_concept_uris: TF += 1\n",
    "        if N_predictions == 0:\n",
    "            print(course_id)\n",
    "            print('Accuracy: ',0.0)\n",
    "            print('Precision: ',0.0)\n",
    "            print()\n",
    "        else: \n",
    "            print(course_id)\n",
    "            print('Accuracy: ',TF/N_samples)\n",
    "            print('Precision: ',TF/N_predictions)\n",
    "            print()\n",
    "    print('----------------------------------')\n",
    "    print()"
   ]
  }
 ],
 "metadata": {
  "kernelspec": {
   "display_name": "Python 3 (ipykernel)",
   "language": "python",
   "name": "python3"
  },
  "language_info": {
   "codemirror_mode": {
    "name": "ipython",
    "version": 3
   },
   "file_extension": ".py",
   "mimetype": "text/x-python",
   "name": "python",
   "nbconvert_exporter": "python",
   "pygments_lexer": "ipython3",
   "version": "3.9.7"
  }
 },
 "nbformat": 4,
 "nbformat_minor": 5
}
