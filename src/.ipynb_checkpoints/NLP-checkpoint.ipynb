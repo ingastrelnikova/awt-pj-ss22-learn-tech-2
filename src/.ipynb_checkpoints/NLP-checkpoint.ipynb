{
 "cells": [
  {
   "cell_type": "markdown",
   "id": "b066a0e7",
   "metadata": {},
   "source": [
    "this is the NLP part, where we used two different NLP algorithms to extract competencies"
   ]
  },
  {
   "cell_type": "markdown",
   "id": "663531e1",
   "metadata": {},
   "source": [
    "# Competencies Extraction Service"
   ]
  },
  {
   "cell_type": "code",
   "execution_count": 19,
   "id": "34f704ec",
   "metadata": {},
   "outputs": [],
   "source": [
    "import pandas as pd\n",
    "import spacy\n",
    "from tqdm import tqdm\n",
    "sp = spacy.load('de_core_news_lg')"
   ]
  },
  {
   "cell_type": "markdown",
   "id": "a2fadacb",
   "metadata": {},
   "source": [
    "## Load Data"
   ]
  },
  {
   "cell_type": "code",
   "execution_count": 22,
   "id": "f0a8e6d8",
   "metadata": {},
   "outputs": [
    {
     "data": {
      "text/plain": [
       "0                                  musikpersonal verwalten\n",
       "1                      strafvollzugsverfahr beaufsichtigen\n",
       "2                           unterdrückend praktik anwenden\n",
       "3        einhaltung vorschrift eisenbahnfahrzeuge überp...\n",
       "4                               verfügbar dienst ermitteln\n",
       "                               ...                        \n",
       "13886    beruflich leistungsfähigkeit nutzer nutzerinn ...\n",
       "13887                  beleuchtung transportgerät einbauen\n",
       "13888                       verarbeitung natürlich sprache\n",
       "13889                               bauarbeit koordinieren\n",
       "13890               absturzsicherung bordbretter anbringen\n",
       "Name: processed_label, Length: 13891, dtype: object"
      ]
     },
     "execution_count": 22,
     "metadata": {},
     "output_type": "execute_result"
    }
   ],
   "source": [
    "labels_processed = pd.read_csv(\"../data/labels_processed.csv\")['processed_label']\n",
    "labels_processed"
   ]
  },
  {
   "cell_type": "code",
   "execution_count": 23,
   "id": "4dfa3961",
   "metadata": {},
   "outputs": [
    {
     "data": {
      "text/plain": [
       "0        Musikpersonal verwalten, Zuweisen und Verwalte...\n",
       "1        Strafvollzugsverfahren beaufsichtigen, Überwac...\n",
       "2        nicht unterdrückende Praktiken anwenden, Ermit...\n",
       "3        Einhaltung von Vorschriften von Eisenbahnfahrz...\n",
       "4        verfügbare Dienste ermitteln, Ermitteln der ve...\n",
       "                               ...                        \n",
       "13886    berufliche Leistungsfähigkeit von Nutzern/Nutz...\n",
       "13887    Beleuchtung in Transportgeräten einbauen, Einb...\n",
       "13888    Verarbeitung natürlicher Sprache, Technologien...\n",
       "13889    Bauarbeiten koordinieren, Koordinierung der Tä...\n",
       "13890    Absturzsicherungen und Bordbretter anbringen, ...\n",
       "Name: info, Length: 13891, dtype: object"
      ]
     },
     "execution_count": 23,
     "metadata": {},
     "output_type": "execute_result"
    }
   ],
   "source": [
    "skills_info = pd.read_csv(\"../data/skills_info.csv\")['info']\n",
    "skills_info"
   ]
  },
  {
   "cell_type": "code",
   "execution_count": 24,
   "id": "c2bde99d",
   "metadata": {},
   "outputs": [
    {
     "data": {
      "text/plain": [
       "0        schwierig klient patient angehörige kollege cl...\n",
       "1        aktuelles arbeitsrecht 2022. kurzbeschreibung ...\n",
       "2        ambulant pflege rechtssicher handeln haftungsr...\n",
       "3        aufgabe gesetzlich betreuer reform betreuungsr...\n",
       "4        basisqualifikation ungelernt pflegekräft zerti...\n",
       "                               ...                        \n",
       "16847    monat weiterbildung organisation & führung lea...\n",
       "16848    conversion usability experte ziel maßnahme tei...\n",
       "16849    digital transformation management ziel maßnahm...\n",
       "16850    ecommerce geschäftsmodell ziel maßnahme teilne...\n",
       "16851    experte digital content creation teilnehmer di...\n",
       "Name: course_info_ER, Length: 16852, dtype: object"
      ]
     },
     "execution_count": 24,
     "metadata": {},
     "output_type": "execute_result"
    }
   ],
   "source": [
    "courses_info_ER = pd.read_csv(\"../data/courses_info_ER.csv\")['course_info_ER']\n",
    "courses_info_ER"
   ]
  },
  {
   "cell_type": "code",
   "execution_count": 25,
   "id": "38a7d63a",
   "metadata": {},
   "outputs": [
    {
     "data": {
      "text/plain": [
       "0        . Schwierige . Klienten . . Mit Patienten , An...\n",
       "1        Aktuelles Arbeitsrecht 2022. Kurzbeschreibung ...\n",
       "2        Ambulante Pflege . Rechtssicher Handeln und Ha...\n",
       "3        Aufgaben des gesetzlichen Betreuers . Zur Refo...\n",
       "4        Basisqualifikation für ungelernte Pflegekräfte...\n",
       "                               ...                        \n",
       "16847    5 Monate Weiterbildung . Organisation . Führun...\n",
       "16848    Conversion und Usability Experte . Ziel der Ma...\n",
       "16849    Digital Transformation Management . Ziel der M...\n",
       "16850    E-Commerce Geschäftsmodelle . Ziel der Maßnahm...\n",
       "16851    Experte im Digital Content Creation . Die Teil...\n",
       "Name: course_info_NN, Length: 16852, dtype: object"
      ]
     },
     "execution_count": 25,
     "metadata": {},
     "output_type": "execute_result"
    }
   ],
   "source": [
    "courses_info_NN = pd.read_csv(\"../data/courses_info_NN.csv\")['course_info_NN']\n",
    "courses_info_NN"
   ]
  },
  {
   "cell_type": "markdown",
   "id": "5b8ef5be",
   "metadata": {},
   "source": [
    "## NLP Algorithms"
   ]
  },
  {
   "cell_type": "markdown",
   "id": "1c245d0a",
   "metadata": {},
   "source": [
    "### 1. Modified Ontology-based Entity Recognition"
   ]
  },
  {
   "cell_type": "markdown",
   "id": "91d9eaf0",
   "metadata": {},
   "source": [
    "<img src=\"../images/ER.png\" align=\"left\" width=\"800\">"
   ]
  },
  {
   "cell_type": "markdown",
   "id": "ebf67a49",
   "metadata": {},
   "source": [
    "`termStore:  {controlled vocabulary (vocabularies in label): URI}`"
   ]
  },
  {
   "cell_type": "code",
   "execution_count": 26,
   "id": "91eafb65",
   "metadata": {},
   "outputs": [
    {
     "name": "stderr",
     "output_type": "stream",
     "text": [
      "100%|████████████████████████████████████████████████████████████████████████████| 13891/13891 [00:42<00:00, 330.45it/s]\n"
     ]
    }
   ],
   "source": [
    "termStore = {}\n",
    "URI = 0\n",
    "for label_processed in tqdm(labels_processed):\n",
    "    label_processed = sp(label_processed)\n",
    "    for word in label_processed:\n",
    "        word = word.text\n",
    "        if word not in termStore:\n",
    "            termStore[word] = URI\n",
    "            URI += 1"
   ]
  },
  {
   "cell_type": "code",
   "execution_count": 27,
   "id": "256c69e2",
   "metadata": {},
   "outputs": [
    {
     "data": {
      "text/html": [
       "<div>\n",
       "<style scoped>\n",
       "    .dataframe tbody tr th:only-of-type {\n",
       "        vertical-align: middle;\n",
       "    }\n",
       "\n",
       "    .dataframe tbody tr th {\n",
       "        vertical-align: top;\n",
       "    }\n",
       "\n",
       "    .dataframe thead th {\n",
       "        text-align: right;\n",
       "    }\n",
       "</style>\n",
       "<table border=\"1\" class=\"dataframe\">\n",
       "  <thead>\n",
       "    <tr style=\"text-align: right;\">\n",
       "      <th></th>\n",
       "      <th>controlledVocabulary</th>\n",
       "      <th>URI</th>\n",
       "    </tr>\n",
       "  </thead>\n",
       "  <tbody>\n",
       "    <tr>\n",
       "      <th>0</th>\n",
       "      <td>musikpersonal</td>\n",
       "      <td>0</td>\n",
       "    </tr>\n",
       "    <tr>\n",
       "      <th>1</th>\n",
       "      <td>verwalten</td>\n",
       "      <td>1</td>\n",
       "    </tr>\n",
       "    <tr>\n",
       "      <th>2</th>\n",
       "      <td>strafvollzugsverfahr</td>\n",
       "      <td>2</td>\n",
       "    </tr>\n",
       "    <tr>\n",
       "      <th>3</th>\n",
       "      <td>beaufsichtigen</td>\n",
       "      <td>3</td>\n",
       "    </tr>\n",
       "    <tr>\n",
       "      <th>4</th>\n",
       "      <td>unterdrückend</td>\n",
       "      <td>4</td>\n",
       "    </tr>\n",
       "    <tr>\n",
       "      <th>...</th>\n",
       "      <td>...</td>\n",
       "      <td>...</td>\n",
       "    </tr>\n",
       "    <tr>\n",
       "      <th>12122</th>\n",
       "      <td>scala</td>\n",
       "      <td>12122</td>\n",
       "    </tr>\n",
       "    <tr>\n",
       "      <th>12123</th>\n",
       "      <td>bodentragfähigkeit</td>\n",
       "      <td>12123</td>\n",
       "    </tr>\n",
       "    <tr>\n",
       "      <th>12124</th>\n",
       "      <td>bibliotheksartikel</td>\n",
       "      <td>12124</td>\n",
       "    </tr>\n",
       "    <tr>\n",
       "      <th>12125</th>\n",
       "      <td>absturzsicherung</td>\n",
       "      <td>12125</td>\n",
       "    </tr>\n",
       "    <tr>\n",
       "      <th>12126</th>\n",
       "      <td>bordbretter</td>\n",
       "      <td>12126</td>\n",
       "    </tr>\n",
       "  </tbody>\n",
       "</table>\n",
       "<p>12127 rows × 2 columns</p>\n",
       "</div>"
      ],
      "text/plain": [
       "       controlledVocabulary    URI\n",
       "0             musikpersonal      0\n",
       "1                 verwalten      1\n",
       "2      strafvollzugsverfahr      2\n",
       "3            beaufsichtigen      3\n",
       "4             unterdrückend      4\n",
       "...                     ...    ...\n",
       "12122                 scala  12122\n",
       "12123    bodentragfähigkeit  12123\n",
       "12124    bibliotheksartikel  12124\n",
       "12125      absturzsicherung  12125\n",
       "12126           bordbretter  12126\n",
       "\n",
       "[12127 rows x 2 columns]"
      ]
     },
     "execution_count": 27,
     "metadata": {},
     "output_type": "execute_result"
    }
   ],
   "source": [
    "pd.DataFrame(termStore.items(), columns = ['controlledVocabulary', 'URI'])"
   ]
  },
  {
   "cell_type": "markdown",
   "id": "dea015bf",
   "metadata": {},
   "source": [
    "`sequenceStore: {URIs : (index, sequence consisted of controlled vocabularies (label))}`"
   ]
  },
  {
   "cell_type": "code",
   "execution_count": 28,
   "id": "1286455b",
   "metadata": {},
   "outputs": [
    {
     "name": "stderr",
     "output_type": "stream",
     "text": [
      "100%|████████████████████████████████████████████████████████████████████████████| 13891/13891 [00:40<00:00, 339.60it/s]\n"
     ]
    }
   ],
   "source": [
    "sequenceStore = {}\n",
    "for i, label_processed in enumerate(tqdm(labels_processed)):\n",
    "    URIs = []\n",
    "    label_processed = sp(label_processed)\n",
    "    for word in label_processed:\n",
    "        URIs.append(termStore[word.text])\n",
    "    sequenceStore[tuple(URIs)] = (i,label_processed.text)"
   ]
  },
  {
   "cell_type": "code",
   "execution_count": 29,
   "id": "636ef1b3",
   "metadata": {},
   "outputs": [
    {
     "data": {
      "text/html": [
       "<div>\n",
       "<style scoped>\n",
       "    .dataframe tbody tr th:only-of-type {\n",
       "        vertical-align: middle;\n",
       "    }\n",
       "\n",
       "    .dataframe tbody tr th {\n",
       "        vertical-align: top;\n",
       "    }\n",
       "\n",
       "    .dataframe thead th {\n",
       "        text-align: right;\n",
       "    }\n",
       "</style>\n",
       "<table border=\"1\" class=\"dataframe\">\n",
       "  <thead>\n",
       "    <tr style=\"text-align: right;\">\n",
       "      <th></th>\n",
       "      <th>URIs</th>\n",
       "      <th>(index, label)</th>\n",
       "    </tr>\n",
       "  </thead>\n",
       "  <tbody>\n",
       "    <tr>\n",
       "      <th>0</th>\n",
       "      <td>(0, 1)</td>\n",
       "      <td>(0, musikpersonal verwalten)</td>\n",
       "    </tr>\n",
       "    <tr>\n",
       "      <th>1</th>\n",
       "      <td>(2, 3)</td>\n",
       "      <td>(1, strafvollzugsverfahr beaufsichtigen)</td>\n",
       "    </tr>\n",
       "    <tr>\n",
       "      <th>2</th>\n",
       "      <td>(4, 5, 6)</td>\n",
       "      <td>(2, unterdrückend praktik anwenden)</td>\n",
       "    </tr>\n",
       "    <tr>\n",
       "      <th>3</th>\n",
       "      <td>(7, 8, 9, 10)</td>\n",
       "      <td>(3, einhaltung vorschrift eisenbahnfahrzeuge ü...</td>\n",
       "    </tr>\n",
       "    <tr>\n",
       "      <th>4</th>\n",
       "      <td>(11, 12, 13)</td>\n",
       "      <td>(4, verfügbar dienst ermitteln)</td>\n",
       "    </tr>\n",
       "    <tr>\n",
       "      <th>...</th>\n",
       "      <td>...</td>\n",
       "      <td>...</td>\n",
       "    </tr>\n",
       "    <tr>\n",
       "      <th>13877</th>\n",
       "      <td>(1802, 6820, 501, 502, 705, 1335)</td>\n",
       "      <td>(13886, beruflich leistungsfähigkeit nutzer nu...</td>\n",
       "    </tr>\n",
       "    <tr>\n",
       "      <th>13878</th>\n",
       "      <td>(2206, 1899, 289)</td>\n",
       "      <td>(13887, beleuchtung transportgerät einbauen)</td>\n",
       "    </tr>\n",
       "    <tr>\n",
       "      <th>13879</th>\n",
       "      <td>(1743, 1332, 2355)</td>\n",
       "      <td>(13888, verarbeitung natürlich sprache)</td>\n",
       "    </tr>\n",
       "    <tr>\n",
       "      <th>13880</th>\n",
       "      <td>(3594, 478)</td>\n",
       "      <td>(13889, bauarbeit koordinieren)</td>\n",
       "    </tr>\n",
       "    <tr>\n",
       "      <th>13881</th>\n",
       "      <td>(12125, 12126, 1145)</td>\n",
       "      <td>(13890, absturzsicherung bordbretter anbringen)</td>\n",
       "    </tr>\n",
       "  </tbody>\n",
       "</table>\n",
       "<p>13882 rows × 2 columns</p>\n",
       "</div>"
      ],
      "text/plain": [
       "                                    URIs  \\\n",
       "0                                 (0, 1)   \n",
       "1                                 (2, 3)   \n",
       "2                              (4, 5, 6)   \n",
       "3                          (7, 8, 9, 10)   \n",
       "4                           (11, 12, 13)   \n",
       "...                                  ...   \n",
       "13877  (1802, 6820, 501, 502, 705, 1335)   \n",
       "13878                  (2206, 1899, 289)   \n",
       "13879                 (1743, 1332, 2355)   \n",
       "13880                        (3594, 478)   \n",
       "13881               (12125, 12126, 1145)   \n",
       "\n",
       "                                          (index, label)  \n",
       "0                           (0, musikpersonal verwalten)  \n",
       "1               (1, strafvollzugsverfahr beaufsichtigen)  \n",
       "2                    (2, unterdrückend praktik anwenden)  \n",
       "3      (3, einhaltung vorschrift eisenbahnfahrzeuge ü...  \n",
       "4                        (4, verfügbar dienst ermitteln)  \n",
       "...                                                  ...  \n",
       "13877  (13886, beruflich leistungsfähigkeit nutzer nu...  \n",
       "13878       (13887, beleuchtung transportgerät einbauen)  \n",
       "13879            (13888, verarbeitung natürlich sprache)  \n",
       "13880                    (13889, bauarbeit koordinieren)  \n",
       "13881    (13890, absturzsicherung bordbretter anbringen)  \n",
       "\n",
       "[13882 rows x 2 columns]"
      ]
     },
     "execution_count": 29,
     "metadata": {},
     "output_type": "execute_result"
    }
   ],
   "source": [
    "pd.DataFrame(sequenceStore.items(), columns = ['URIs', '(index, label)'])"
   ]
  },
  {
   "cell_type": "markdown",
   "id": "6a81d555",
   "metadata": {},
   "source": [
    "The algorithm scans the tokenized courses information from the beginning until a word contained in the `termStore` is reached. Starting from this word a lookahead is performed searching for the longest sequence of words, which are contained in the `termStore`. As soon as a subsequent term is not included in the `termStore`, the `check_candidates` method to find all sequence still contained in the `sequenceStore` by using URIs. "
   ]
  },
  {
   "cell_type": "code",
   "execution_count": 40,
   "id": "a277871c",
   "metadata": {},
   "outputs": [],
   "source": [
    "def get_relations_ER(index_start, index_end):\n",
    "    URIs_candidates = []\n",
    "    word_candidates = []\n",
    "    relations = []\n",
    "    courses_info_ER_subset = courses_info_ER[index_start:index_end]\n",
    "    for i, course_info_ER in enumerate(tqdm(courses_info_ER_subset)):\n",
    "        index_course = index_start + i\n",
    "        for word in sp(course_info_ER):\n",
    "            word = word.text\n",
    "            if word != '--' and word in termStore:\n",
    "                word_candidates.append(word)\n",
    "                URIs_candidates.append(termStore[word])\n",
    "            else:\n",
    "                if URIs_candidates != []:\n",
    "                    URIs_candidates, relations = check_candidates(URIs_candidates, index_course, relations)\n",
    "                word_candidates = []\n",
    "                \n",
    "#             # approximate matching, results not good \n",
    "#             for key in termStore.keys():\n",
    "#                 if str(word) == key or key.startswith(str(word)):\n",
    "#                     word_candidates.append(key)\n",
    "#                     URIs_candidates.append(termStore[key])\n",
    "#                 else:\n",
    "#                     if URIs_candidates != []:\n",
    "#                         URIs_candidates, relations = check_candidates(URIs_candidates, index_course, relations)\n",
    "#                     word_candidates = []\n",
    "                    \n",
    "    URIs_candidates, relations = check_candidates(URIs_candidates, index_course, relations)\n",
    "    return relations\n",
    "\n",
    "def check_candidates(URIs_candidates, index_course, relations):\n",
    "    n = len(URIs_candidates)\n",
    "    for i in range(n):\n",
    "        for j in range(i+1, n+1):\n",
    "            URIs = tuple(URIs_candidates[i:j])\n",
    "            if URIs in sequenceStore:\n",
    "                index_label = sequenceStore[URIs][0]\n",
    "                if (index_course, index_label) not in relations:\n",
    "                    relations.append((index_course, index_label))\n",
    "    URIs_candidates = []\n",
    "    return URIs_candidates, relations"
   ]
  },
  {
   "cell_type": "markdown",
   "id": "5b5cfc13",
   "metadata": {},
   "source": [
    "### 2. Universal Sentence Encoder"
   ]
  },
  {
   "cell_type": "markdown",
   "id": "844d8a50",
   "metadata": {},
   "source": [
    "<img src=\"../images/NN.png\" align=\"left\">"
   ]
  },
  {
   "cell_type": "code",
   "execution_count": 33,
   "id": "d141923d",
   "metadata": {},
   "outputs": [],
   "source": [
    "import tensorflow as tf\n",
    "import tensorflow_hub as hub\n",
    "import numpy as np\n",
    "import tensorflow_text\n",
    "embed = hub.load(\"https://tfhub.dev/google/universal-sentence-encoder-multilingual-large/3\")"
   ]
  },
  {
   "cell_type": "markdown",
   "id": "a5def728",
   "metadata": {},
   "source": [
    "#### Calculate skill embedings"
   ]
  },
  {
   "cell_type": "markdown",
   "id": "786f8ce4",
   "metadata": {},
   "source": [
    "**Problem:** There is not enough memory to directly calculate the embedding and inner product of all course information and all skill information at one time, and the running time is too long.\n",
    "\n",
    "**Implementation tricks:** compute one batch of embeddings at a time, and use numpy matrix operations to speed up (parallelizable operations)"
   ]
  },
  {
   "cell_type": "code",
   "execution_count": 34,
   "id": "a3090b3a",
   "metadata": {},
   "outputs": [
    {
     "name": "stderr",
     "output_type": "stream",
     "text": [
      "100%|███████████████████████████████████████████████████████████████████████████████████| 28/28 [03:01<00:00,  6.47s/it]\n"
     ]
    }
   ],
   "source": [
    "skill_info_embedings = []\n",
    "batch_size = 500\n",
    "for i in tqdm(range(0, len(skills_info), batch_size)):\n",
    "    skill_info_embedings.extend(embed(skills_info[i: i + batch_size]))\n",
    "skill_info_embedings = np.array(skill_info_embedings)"
   ]
  },
  {
   "cell_type": "code",
   "execution_count": 13,
   "id": "4054c6ee",
   "metadata": {},
   "outputs": [
    {
     "name": "stdout",
     "output_type": "stream",
     "text": [
      "(13891, 512)\n"
     ]
    },
    {
     "data": {
      "text/plain": [
       "array([[ 0.05706281,  0.01265647, -0.06141534, ...,  0.03054258,\n",
       "         0.05152629, -0.03009639],\n",
       "       [ 0.03778337,  0.10214293,  0.0881092 , ...,  0.02205016,\n",
       "         0.0346716 , -0.07374028],\n",
       "       [ 0.04217117,  0.03572333,  0.01779626, ...,  0.00945657,\n",
       "        -0.06897715,  0.03907941],\n",
       "       ...,\n",
       "       [-0.00797085,  0.03730636,  0.00821302, ..., -0.0592103 ,\n",
       "         0.02274473, -0.04066873],\n",
       "       [ 0.04129963,  0.02172587,  0.01060316, ...,  0.0187686 ,\n",
       "        -0.04019865, -0.08722804],\n",
       "       [ 0.04214134,  0.03009738,  0.00235354, ..., -0.03543701,\n",
       "        -0.02515756,  0.03830037]], dtype=float32)"
      ]
     },
     "execution_count": 13,
     "metadata": {},
     "output_type": "execute_result"
    }
   ],
   "source": [
    "print(skill_info_embedings.shape)\n",
    "skill_info_embedings"
   ]
  },
  {
   "cell_type": "markdown",
   "id": "0a722a6c",
   "metadata": {},
   "source": [
    "#### Find course with related skills"
   ]
  },
  {
   "cell_type": "markdown",
   "id": "7f121ff7",
   "metadata": {},
   "source": [
    "Three hyperparameters:\n",
    "\n",
    "1. skill_threshold: for similarities between sentences in courses info and skills info, if it has value with above this threshold will be considered as course-related skills\n",
    "1. course_threshold: for similarities between skills info and courses info, if it has value with above this threshold will be considered as course-related skills, It was introduced to filter out skills that are similar to sentences in the course info but do not match the whole course info context.\n",
    "1. top_n: the number of skills with the highest similarities returned among skills with a similarity above the threshold (for each sentence in a course title and description)"
   ]
  },
  {
   "cell_type": "code",
   "execution_count": 36,
   "id": "54721cd6",
   "metadata": {},
   "outputs": [],
   "source": [
    "skill_threshold, course_threshold, top_n = 0.4, 0.2, 10"
   ]
  },
  {
   "cell_type": "code",
   "execution_count": 45,
   "id": "1e713838",
   "metadata": {},
   "outputs": [],
   "source": [
    "def get_relations_NN(index_start, index_end):\n",
    "    relations = []\n",
    "    courses_info_subset = courses_info_NN[index_start:index_end]\n",
    "    for i, course_info in enumerate(tqdm(courses_info_subset)):\n",
    "        course_i = index_start + i\n",
    "        course_info_sentences = course_info.split('.')\n",
    "        # embedding of the whole course info\n",
    "        course_info_embedding = embed(course_info)\n",
    "        # embedding of the each sentence in the course info\n",
    "        course_info_sentence_embeddings = embed(course_info_sentences)\n",
    "        for course_info_sentence_embedding in course_info_sentence_embeddings:\n",
    "            # similarities between sentences in courses info and skills info\n",
    "            similarities = np.inner(course_info_sentence_embedding, skill_info_embedings)\n",
    "            # get index of skills whose similarities bigger than the skill_threshold\n",
    "            top_i = np.where(similarities >= skill_threshold)[0]\n",
    "            if len(top_i) > 0:\n",
    "                # get value of similarities bigger than the skill_threshold\n",
    "                top_similarities = similarities[similarities >= skill_threshold]\n",
    "                # get pairs of top_i and top_similarities\n",
    "                related_skills_i_similarity = list(zip(top_i, top_similarities))\n",
    "                # sort related_skills_i_similarity by value of similarities and get top_n from them\n",
    "                top_related_skills_i_similarity = sorted(related_skills_i_similarity, \n",
    "                                                         key = lambda x: x[1], reverse=True)[:top_n]\n",
    "                # get index of top related skills from last step \n",
    "                top_related_skills_i = list(map(lambda x: x[0], top_related_skills_i_similarity))\n",
    "                top_related_skills_i = np.array(top_related_skills_i)\n",
    "                # caculate similarities of these skills to course info to make sure that these skills not only match one of \n",
    "                # sentences in this piece of course info but also match the whole course info context\n",
    "                similarities_with_course_info = np.inner(skill_info_embedings[top_related_skills_i],course_info_embedding)\n",
    "                # filter out such skills by using course_threshold mentioned above (three hyperparameters)\n",
    "                related_skills_i_with_course_info = np.where(similarities_with_course_info > course_threshold)[0]\n",
    "                # create (index of course, index of skill) pairs\n",
    "                if len(related_skills_i_with_course_info) > 0:\n",
    "                    top_related_skills_i = top_related_skills_i[related_skills_i_with_course_info]\n",
    "                    relations.extend(list(zip([course_i]*len(top_related_skills_i), top_related_skills_i)))\n",
    "        relations = list(dict.fromkeys(relations))\n",
    "    return relations"
   ]
  },
  {
   "cell_type": "markdown",
   "id": "31e4d9a4",
   "metadata": {},
   "source": [
    "### Calculate id relations"
   ]
  },
  {
   "cell_type": "code",
   "execution_count": 41,
   "id": "899bdb3b",
   "metadata": {},
   "outputs": [],
   "source": [
    "def store_relations (start, end, model):\n",
    "    \n",
    "    # Modified Ontology-based Entity Recognition\n",
    "    if model == 'ER': relations = get_relations_ER(start, end)\n",
    "        \n",
    "    # Universal Sentence Encoder   \n",
    "    elif model == 'NN': relations = get_relations_NN(start, end)\n",
    "\n",
    "    else: raise Exception(\"Please set model to ER or NN\")\n",
    "        \n",
    "    course_ids = pd.read_csv(\"../data/all_courses.csv\")['course_id']\n",
    "    skill_uris = pd.read_csv(\"../data/all_skills.csv\")['concept_uri']\n",
    "    \n",
    "    graph = []\n",
    "    for relation in relations:\n",
    "        graph.append((course_ids[relation[0]],skill_uris[relation[1]]))\n",
    "    \n",
    "    graphp_df = pd.DataFrame(graph)\n",
    "    graphp_df.columns =['course_id', 'concept_uri']\n",
    "    graphp_df.to_csv(\"../data/all_relations_{}.csv\".format(model))\n",
    "    \n",
    "    # Map id relations to name relations\n",
    "    courses = pd.read_csv('../data/all_courses.csv')[['course_id','course_name']]\n",
    "    skills = pd.read_csv('../data/all_skills.csv')[['concept_uri','preferred_label']]\n",
    "    id_relations = pd.read_csv(\"../data/all_relations_{}.csv\".format(model)).iloc[:,1:3]\n",
    "    skill_dict = skills.set_index('concept_uri').to_dict()['preferred_label']\n",
    "    course_dict = courses.set_index('course_id').to_dict()['course_name']\n",
    "    name_relations = pd.DataFrame(columns=['course_name','skill_label'])\n",
    "    name_relations['course_name'] = id_relations['course_id'].map(course_dict)\n",
    "    name_relations['skill_label'] = id_relations['concept_uri'].map(skill_dict)\n",
    "    name_relations.to_csv('../data/name_relations_{}.csv'.format(model))\n",
    "    \n",
    "    return name_relations"
   ]
  },
  {
   "cell_type": "code",
   "execution_count": 42,
   "id": "012db23f",
   "metadata": {},
   "outputs": [],
   "source": [
    "start, end = 0, len(courses_info_ER)"
   ]
  },
  {
   "cell_type": "code",
   "execution_count": 43,
   "id": "6703729b",
   "metadata": {},
   "outputs": [
    {
     "name": "stderr",
     "output_type": "stream",
     "text": [
      "100%|█████████████████████████████████████████████████████████████████████████████| 16852/16852 [03:50<00:00, 72.99it/s]\n"
     ]
    },
    {
     "data": {
      "text/html": [
       "<div>\n",
       "<style scoped>\n",
       "    .dataframe tbody tr th:only-of-type {\n",
       "        vertical-align: middle;\n",
       "    }\n",
       "\n",
       "    .dataframe tbody tr th {\n",
       "        vertical-align: top;\n",
       "    }\n",
       "\n",
       "    .dataframe thead th {\n",
       "        text-align: right;\n",
       "    }\n",
       "</style>\n",
       "<table border=\"1\" class=\"dataframe\">\n",
       "  <thead>\n",
       "    <tr style=\"text-align: right;\">\n",
       "      <th></th>\n",
       "      <th>course_name</th>\n",
       "      <th>skill_label</th>\n",
       "    </tr>\n",
       "  </thead>\n",
       "  <tbody>\n",
       "    <tr>\n",
       "      <th>0</th>\n",
       "      <td>Aktuelles Arbeitsrecht 2022</td>\n",
       "      <td>Arbeitsrecht</td>\n",
       "    </tr>\n",
       "    <tr>\n",
       "      <th>1</th>\n",
       "      <td>Ambulante Pflege - Rechtssicher Handeln und Ha...</td>\n",
       "      <td>Risikomanagement</td>\n",
       "    </tr>\n",
       "    <tr>\n",
       "      <th>2</th>\n",
       "      <td>Ambulante Pflege - Rechtssicher Handeln und Ha...</td>\n",
       "      <td>Datenschutz</td>\n",
       "    </tr>\n",
       "    <tr>\n",
       "      <th>3</th>\n",
       "      <td>Aufgaben des gesetzlichen Betreuers - Zur Refo...</td>\n",
       "      <td>planen</td>\n",
       "    </tr>\n",
       "    <tr>\n",
       "      <th>4</th>\n",
       "      <td>Aufgaben des gesetzlichen Betreuers - Zur Refo...</td>\n",
       "      <td>sich selbst darstellen</td>\n",
       "    </tr>\n",
       "    <tr>\n",
       "      <th>...</th>\n",
       "      <td>...</td>\n",
       "      <td>...</td>\n",
       "    </tr>\n",
       "    <tr>\n",
       "      <th>30117</th>\n",
       "      <td>Digital Transformation Management</td>\n",
       "      <td>Design Thinking</td>\n",
       "    </tr>\n",
       "    <tr>\n",
       "      <th>30118</th>\n",
       "      <td>E-Commerce Geschäftsmodelle</td>\n",
       "      <td>Geschäftsmodell</td>\n",
       "    </tr>\n",
       "    <tr>\n",
       "      <th>30119</th>\n",
       "      <td>Experte im Digital Content Creation</td>\n",
       "      <td>Psychologie</td>\n",
       "    </tr>\n",
       "    <tr>\n",
       "      <th>30120</th>\n",
       "      <td>Experte im Digital Content Creation</td>\n",
       "      <td>Waren sichern</td>\n",
       "    </tr>\n",
       "    <tr>\n",
       "      <th>30121</th>\n",
       "      <td>Experte im Digital Content Creation</td>\n",
       "      <td>Fotografie</td>\n",
       "    </tr>\n",
       "  </tbody>\n",
       "</table>\n",
       "<p>30122 rows × 2 columns</p>\n",
       "</div>"
      ],
      "text/plain": [
       "                                             course_name  \\\n",
       "0                            Aktuelles Arbeitsrecht 2022   \n",
       "1      Ambulante Pflege - Rechtssicher Handeln und Ha...   \n",
       "2      Ambulante Pflege - Rechtssicher Handeln und Ha...   \n",
       "3      Aufgaben des gesetzlichen Betreuers - Zur Refo...   \n",
       "4      Aufgaben des gesetzlichen Betreuers - Zur Refo...   \n",
       "...                                                  ...   \n",
       "30117                  Digital Transformation Management   \n",
       "30118                        E-Commerce Geschäftsmodelle   \n",
       "30119                Experte im Digital Content Creation   \n",
       "30120                Experte im Digital Content Creation   \n",
       "30121                Experte im Digital Content Creation   \n",
       "\n",
       "                  skill_label  \n",
       "0                Arbeitsrecht  \n",
       "1            Risikomanagement  \n",
       "2                 Datenschutz  \n",
       "3                      planen  \n",
       "4      sich selbst darstellen  \n",
       "...                       ...  \n",
       "30117         Design Thinking  \n",
       "30118         Geschäftsmodell  \n",
       "30119             Psychologie  \n",
       "30120           Waren sichern  \n",
       "30121              Fotografie  \n",
       "\n",
       "[30122 rows x 2 columns]"
      ]
     },
     "execution_count": 43,
     "metadata": {},
     "output_type": "execute_result"
    }
   ],
   "source": [
    "with pd.option_context(\"display.max_rows\", 1000):\n",
    "    display(store_relations(start, end, 'ER'))"
   ]
  },
  {
   "cell_type": "code",
   "execution_count": 46,
   "id": "8a286ee9",
   "metadata": {
    "scrolled": true
   },
   "outputs": [
    {
     "name": "stderr",
     "output_type": "stream",
     "text": [
      "100%|███████████████████████████████████████████████████████████████████████████| 16852/16852 [1:16:45<00:00,  3.66it/s]\n"
     ]
    },
    {
     "data": {
      "text/html": [
       "<div>\n",
       "<style scoped>\n",
       "    .dataframe tbody tr th:only-of-type {\n",
       "        vertical-align: middle;\n",
       "    }\n",
       "\n",
       "    .dataframe tbody tr th {\n",
       "        vertical-align: top;\n",
       "    }\n",
       "\n",
       "    .dataframe thead th {\n",
       "        text-align: right;\n",
       "    }\n",
       "</style>\n",
       "<table border=\"1\" class=\"dataframe\">\n",
       "  <thead>\n",
       "    <tr style=\"text-align: right;\">\n",
       "      <th></th>\n",
       "      <th>course_name</th>\n",
       "      <th>skill_label</th>\n",
       "    </tr>\n",
       "  </thead>\n",
       "  <tbody>\n",
       "    <tr>\n",
       "      <th>0</th>\n",
       "      <td>\"Schwierige\" Klienten? - Mit Patienten, Angehö...</td>\n",
       "      <td>Kunden und Kundinnen zufriedenstellen</td>\n",
       "    </tr>\n",
       "    <tr>\n",
       "      <th>1</th>\n",
       "      <td>\"Schwierige\" Klienten? - Mit Patienten, Angehö...</td>\n",
       "      <td>bei Kommunikationsstörungen beraten</td>\n",
       "    </tr>\n",
       "    <tr>\n",
       "      <th>2</th>\n",
       "      <td>\"Schwierige\" Klienten? - Mit Patienten, Angehö...</td>\n",
       "      <td>mit Krankenpflegekräften kommunizieren</td>\n",
       "    </tr>\n",
       "    <tr>\n",
       "      <th>3</th>\n",
       "      <td>\"Schwierige\" Klienten? - Mit Patienten, Angehö...</td>\n",
       "      <td>mit Nutzern/Nutzerinnen des Gesundheitssystems...</td>\n",
       "    </tr>\n",
       "    <tr>\n",
       "      <th>4</th>\n",
       "      <td>\"Schwierige\" Klienten? - Mit Patienten, Angehö...</td>\n",
       "      <td>mit den Netzwerken von Nutzern/Nutzerinnen des...</td>\n",
       "    </tr>\n",
       "    <tr>\n",
       "      <th>...</th>\n",
       "      <td>...</td>\n",
       "      <td>...</td>\n",
       "    </tr>\n",
       "    <tr>\n",
       "      <th>214011</th>\n",
       "      <td>Experte im Digital Content Creation</td>\n",
       "      <td>Medienquellen studieren</td>\n",
       "    </tr>\n",
       "    <tr>\n",
       "      <th>214012</th>\n",
       "      <td>Experte im Digital Content Creation</td>\n",
       "      <td>Medienplan erstellen</td>\n",
       "    </tr>\n",
       "    <tr>\n",
       "      <th>214013</th>\n",
       "      <td>Experte im Digital Content Creation</td>\n",
       "      <td>Herstellungsprozess in der Optik</td>\n",
       "    </tr>\n",
       "    <tr>\n",
       "      <th>214014</th>\n",
       "      <td>Experte im Digital Content Creation</td>\n",
       "      <td>Inhalt und Form angleichen</td>\n",
       "    </tr>\n",
       "    <tr>\n",
       "      <th>214015</th>\n",
       "      <td>Experte im Digital Content Creation</td>\n",
       "      <td>Montagezeichnungen vorbereiten</td>\n",
       "    </tr>\n",
       "  </tbody>\n",
       "</table>\n",
       "<p>214016 rows × 2 columns</p>\n",
       "</div>"
      ],
      "text/plain": [
       "                                              course_name  \\\n",
       "0       \"Schwierige\" Klienten? - Mit Patienten, Angehö...   \n",
       "1       \"Schwierige\" Klienten? - Mit Patienten, Angehö...   \n",
       "2       \"Schwierige\" Klienten? - Mit Patienten, Angehö...   \n",
       "3       \"Schwierige\" Klienten? - Mit Patienten, Angehö...   \n",
       "4       \"Schwierige\" Klienten? - Mit Patienten, Angehö...   \n",
       "...                                                   ...   \n",
       "214011                Experte im Digital Content Creation   \n",
       "214012                Experte im Digital Content Creation   \n",
       "214013                Experte im Digital Content Creation   \n",
       "214014                Experte im Digital Content Creation   \n",
       "214015                Experte im Digital Content Creation   \n",
       "\n",
       "                                              skill_label  \n",
       "0                   Kunden und Kundinnen zufriedenstellen  \n",
       "1                     bei Kommunikationsstörungen beraten  \n",
       "2                  mit Krankenpflegekräften kommunizieren  \n",
       "3       mit Nutzern/Nutzerinnen des Gesundheitssystems...  \n",
       "4       mit den Netzwerken von Nutzern/Nutzerinnen des...  \n",
       "...                                                   ...  \n",
       "214011                            Medienquellen studieren  \n",
       "214012                               Medienplan erstellen  \n",
       "214013                   Herstellungsprozess in der Optik  \n",
       "214014                         Inhalt und Form angleichen  \n",
       "214015                     Montagezeichnungen vorbereiten  \n",
       "\n",
       "[214016 rows x 2 columns]"
      ]
     },
     "metadata": {},
     "output_type": "display_data"
    }
   ],
   "source": [
    "with pd.option_context(\"display.max_rows\", 1000):\n",
    "    display(store_relations(start, end, 'NN'))"
   ]
  },
  {
   "cell_type": "markdown",
   "id": "73b448aa",
   "metadata": {},
   "source": [
    "# Grid Search"
   ]
  },
  {
   "cell_type": "markdown",
   "id": "0d689e91",
   "metadata": {},
   "source": [
    "grid search to find optimal hyperparameters."
   ]
  },
  {
   "cell_type": "code",
   "execution_count": 20,
   "id": "04446571",
   "metadata": {},
   "outputs": [],
   "source": [
    "# for threshold in [0.4, 0.42, 0.44, 0.46]:\n",
    "#     for top_n in [3, 5, 10, 15, 20]:\n",
    "        \n",
    "#         start, end = 0, len(courses_info_NN)\n",
    "\n",
    "#         # Universal Sentence Encoder\n",
    "#         relations = get_relations_NN(start, end)\n",
    "#         file_name = 'all_relations_NN_{}_{}.csv'.format(threshold, top_n)\n",
    "\n",
    "\n",
    "#         course_ids = pd.read_csv(\"../data/all_courses.csv\")['course_id']\n",
    "#         skill_uris = pd.read_csv(\"../data/all_skills.csv\")['concept_uri']\n",
    "#         graph = []\n",
    "#         for relation in relations:\n",
    "#             graph.append((course_ids[relation[0]],skill_uris[relation[1]]))\n",
    "\n",
    "#         graphp_df = pd.DataFrame(graph)\n",
    "#         graphp_df.columns =['course_id', 'concept_uri']\n",
    "#         graphp_df.to_csv(\"../data/{}\".format(file_name))\n",
    "\n",
    "#         courses = pd.read_csv('../data/all_courses.csv')[['course_id','course_name']]\n",
    "#         skills = pd.read_csv('../data/all_skills.csv')[['concept_uri','preferred_label']]\n",
    "#         id_relations = pd.read_csv(\"../data/{}\".format(file_name)).iloc[:,1:3]\n",
    "#         skill_dict = skills.set_index('concept_uri').to_dict()['preferred_label']\n",
    "#         course_dict = courses.set_index('course_id').to_dict()['course_name']\n",
    "#         name_relations = pd.DataFrame(columns=['course_name','skill_label'])\n",
    "#         name_relations['course_name'] = id_relations['course_id'].map(course_dict)\n",
    "#         name_relations['skill_label'] = id_relations['concept_uri'].map(skill_dict)\n",
    "#         name_relations.to_csv('../data/name_relations_{}_{}.csv'.format(threshold, top_n))"
   ]
  }
 ],
 "metadata": {
  "kernelspec": {
   "display_name": "Python 3 (ipykernel)",
   "language": "python",
   "name": "python3"
  },
  "language_info": {
   "codemirror_mode": {
    "name": "ipython",
    "version": 3
   },
   "file_extension": ".py",
   "mimetype": "text/x-python",
   "name": "python",
   "nbconvert_exporter": "python",
   "pygments_lexer": "ipython3",
   "version": "3.9.7"
  }
 },
 "nbformat": 4,
 "nbformat_minor": 5
}
